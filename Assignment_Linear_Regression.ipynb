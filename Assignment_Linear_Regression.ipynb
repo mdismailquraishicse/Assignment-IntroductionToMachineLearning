{
  "cells": [
    {
      "cell_type": "markdown",
      "metadata": {
        "id": "Oq9OIkpjU3hr"
      },
      "source": [
        "# <b> The Boston Housing Dataset is a derived from information collected by the U.S. Census Service concerning housing in the area of Boston MA. The following describes the dataset columns:\n",
        "\n",
        "* CRIM - per capita crime rate by town\n",
        "* ZN - proportion of residential land zoned for lots over 25,000 sq.ft.\n",
        "* INDUS - proportion of non-retail business acres per town.\n",
        "* CHAS - Charles River dummy variable (1 if tract bounds river; 0 otherwise)\n",
        "* NOX - nitric oxides concentration (parts per 10 million)\n",
        "* RM - average number of rooms per dwelling\n",
        "* AGE - proportion of owner-occupied units built prior to 1940\n",
        "* DIS - weighted distances to five Boston employment centres\n",
        "* RAD - index of accessibility to radial highways\n",
        "* TAX - full-value property-tax rate per \\$10,000\n",
        "* PTRATIO - pupil-teacher ratio by town\n",
        "* B - 1000(Bk - 0.63)^2 where Bk is the proportion of blacks by town\n",
        "* LSTAT - % lower status of the population\n",
        "* MEDV - Median value of owner-occupied homes in $1000's\n",
        "\n",
        "MEDV is the dependent variable.\n",
        "\n",
        "## Using this dataset, explain your understanding of linear regression. You should do some checks on the features and the dependent variable, get some plots and distributions for the given variables. Please make this assignment as elaborate as you can.</b>"
      ]
    },
    {
      "cell_type": "code",
      "execution_count": 1,
      "metadata": {
        "id": "p0gkUooyR6Ix"
      },
      "outputs": [],
      "source": [
        "aTuple = (1, 2, 3)\n",
        "aList = list(aTuple)"
      ]
    },
    {
      "cell_type": "code",
      "execution_count": 2,
      "metadata": {
        "colab": {
          "base_uri": "https://localhost:8080/"
        },
        "id": "mHpiwBmxl1oO",
        "outputId": "50e45c9d-676e-4c78-f966-f4c073494843"
      },
      "outputs": [
        {
          "output_type": "execute_result",
          "data": {
            "text/plain": [
              "[1, 2, 3]"
            ]
          },
          "metadata": {},
          "execution_count": 2
        }
      ],
      "source": [
        "aList"
      ]
    },
    {
      "cell_type": "code",
      "execution_count": 3,
      "metadata": {
        "id": "oW39M75jl4S3"
      },
      "outputs": [],
      "source": [
        "# Importing libraries\n",
        "import numpy as np\n",
        "import pandas as pd\n",
        "import seaborn as sns\n",
        "from numpy import math\n",
        "\n",
        "import matplotlib.pyplot as plt\n",
        "\n",
        "from sklearn.model_selection import train_test_split\n",
        "from sklearn.linear_model import LinearRegression\n",
        "from sklearn.preprocessing import MinMaxScaler\n",
        "from sklearn.metrics import r2_score\n",
        "from sklearn.metrics import mean_squared_error\n",
        "from sklearn.datasets import load_boston"
      ]
    },
    {
      "cell_type": "code",
      "execution_count": 4,
      "metadata": {
        "id": "2WgU01JXaTcM",
        "colab": {
          "base_uri": "https://localhost:8080/"
        },
        "outputId": "66b2f066-cdff-46f9-935f-79716faaa2a6"
      },
      "outputs": [
        {
          "output_type": "stream",
          "name": "stderr",
          "text": [
            "/usr/local/lib/python3.7/dist-packages/sklearn/utils/deprecation.py:87: FutureWarning: Function load_boston is deprecated; `load_boston` is deprecated in 1.0 and will be removed in 1.2.\n",
            "\n",
            "    The Boston housing prices dataset has an ethical problem. You can refer to\n",
            "    the documentation of this function for further details.\n",
            "\n",
            "    The scikit-learn maintainers therefore strongly discourage the use of this\n",
            "    dataset unless the purpose of the code is to study and educate about\n",
            "    ethical issues in data science and machine learning.\n",
            "\n",
            "    In this special case, you can fetch the dataset from the original\n",
            "    source::\n",
            "\n",
            "        import pandas as pd\n",
            "        import numpy as np\n",
            "\n",
            "\n",
            "        data_url = \"http://lib.stat.cmu.edu/datasets/boston\"\n",
            "        raw_df = pd.read_csv(data_url, sep=\"\\s+\", skiprows=22, header=None)\n",
            "        data = np.hstack([raw_df.values[::2, :], raw_df.values[1::2, :2]])\n",
            "        target = raw_df.values[1::2, 2]\n",
            "\n",
            "    Alternative datasets include the California housing dataset (i.e.\n",
            "    :func:`~sklearn.datasets.fetch_california_housing`) and the Ames housing\n",
            "    dataset. You can load the datasets as follows::\n",
            "\n",
            "        from sklearn.datasets import fetch_california_housing\n",
            "        housing = fetch_california_housing()\n",
            "\n",
            "    for the California housing dataset and::\n",
            "\n",
            "        from sklearn.datasets import fetch_openml\n",
            "        housing = fetch_openml(name=\"house_prices\", as_frame=True)\n",
            "\n",
            "    for the Ames housing dataset.\n",
            "    \n",
            "  warnings.warn(msg, category=FutureWarning)\n"
          ]
        }
      ],
      "source": [
        "# Loading data\n",
        "boston = pd.DataFrame(data = load_boston().data, columns = load_boston().feature_names)"
      ]
    },
    {
      "cell_type": "code",
      "execution_count": 5,
      "metadata": {
        "id": "2x8FdssVaTcN"
      },
      "outputs": [],
      "source": [
        "boston['MEDV'] = load_boston().target"
      ]
    },
    {
      "cell_type": "code",
      "execution_count": 6,
      "metadata": {
        "id": "TLZOtPaKaTcO",
        "outputId": "2a200786-3c14-40ba-c969-1a5e90f3ae57",
        "colab": {
          "base_uri": "https://localhost:8080/",
          "height": 206
        }
      },
      "outputs": [
        {
          "output_type": "execute_result",
          "data": {
            "text/plain": [
              "      CRIM    ZN  INDUS  CHAS    NOX     RM   AGE     DIS  RAD    TAX  \\\n",
              "0  0.00632  18.0   2.31   0.0  0.538  6.575  65.2  4.0900  1.0  296.0   \n",
              "1  0.02731   0.0   7.07   0.0  0.469  6.421  78.9  4.9671  2.0  242.0   \n",
              "2  0.02729   0.0   7.07   0.0  0.469  7.185  61.1  4.9671  2.0  242.0   \n",
              "3  0.03237   0.0   2.18   0.0  0.458  6.998  45.8  6.0622  3.0  222.0   \n",
              "4  0.06905   0.0   2.18   0.0  0.458  7.147  54.2  6.0622  3.0  222.0   \n",
              "\n",
              "   PTRATIO       B  LSTAT  MEDV  \n",
              "0     15.3  396.90   4.98  24.0  \n",
              "1     17.8  396.90   9.14  21.6  \n",
              "2     17.8  392.83   4.03  34.7  \n",
              "3     18.7  394.63   2.94  33.4  \n",
              "4     18.7  396.90   5.33  36.2  "
            ],
            "text/html": [
              "\n",
              "  <div id=\"df-2b2151d9-f504-493a-bedf-78edccd7b658\">\n",
              "    <div class=\"colab-df-container\">\n",
              "      <div>\n",
              "<style scoped>\n",
              "    .dataframe tbody tr th:only-of-type {\n",
              "        vertical-align: middle;\n",
              "    }\n",
              "\n",
              "    .dataframe tbody tr th {\n",
              "        vertical-align: top;\n",
              "    }\n",
              "\n",
              "    .dataframe thead th {\n",
              "        text-align: right;\n",
              "    }\n",
              "</style>\n",
              "<table border=\"1\" class=\"dataframe\">\n",
              "  <thead>\n",
              "    <tr style=\"text-align: right;\">\n",
              "      <th></th>\n",
              "      <th>CRIM</th>\n",
              "      <th>ZN</th>\n",
              "      <th>INDUS</th>\n",
              "      <th>CHAS</th>\n",
              "      <th>NOX</th>\n",
              "      <th>RM</th>\n",
              "      <th>AGE</th>\n",
              "      <th>DIS</th>\n",
              "      <th>RAD</th>\n",
              "      <th>TAX</th>\n",
              "      <th>PTRATIO</th>\n",
              "      <th>B</th>\n",
              "      <th>LSTAT</th>\n",
              "      <th>MEDV</th>\n",
              "    </tr>\n",
              "  </thead>\n",
              "  <tbody>\n",
              "    <tr>\n",
              "      <th>0</th>\n",
              "      <td>0.00632</td>\n",
              "      <td>18.0</td>\n",
              "      <td>2.31</td>\n",
              "      <td>0.0</td>\n",
              "      <td>0.538</td>\n",
              "      <td>6.575</td>\n",
              "      <td>65.2</td>\n",
              "      <td>4.0900</td>\n",
              "      <td>1.0</td>\n",
              "      <td>296.0</td>\n",
              "      <td>15.3</td>\n",
              "      <td>396.90</td>\n",
              "      <td>4.98</td>\n",
              "      <td>24.0</td>\n",
              "    </tr>\n",
              "    <tr>\n",
              "      <th>1</th>\n",
              "      <td>0.02731</td>\n",
              "      <td>0.0</td>\n",
              "      <td>7.07</td>\n",
              "      <td>0.0</td>\n",
              "      <td>0.469</td>\n",
              "      <td>6.421</td>\n",
              "      <td>78.9</td>\n",
              "      <td>4.9671</td>\n",
              "      <td>2.0</td>\n",
              "      <td>242.0</td>\n",
              "      <td>17.8</td>\n",
              "      <td>396.90</td>\n",
              "      <td>9.14</td>\n",
              "      <td>21.6</td>\n",
              "    </tr>\n",
              "    <tr>\n",
              "      <th>2</th>\n",
              "      <td>0.02729</td>\n",
              "      <td>0.0</td>\n",
              "      <td>7.07</td>\n",
              "      <td>0.0</td>\n",
              "      <td>0.469</td>\n",
              "      <td>7.185</td>\n",
              "      <td>61.1</td>\n",
              "      <td>4.9671</td>\n",
              "      <td>2.0</td>\n",
              "      <td>242.0</td>\n",
              "      <td>17.8</td>\n",
              "      <td>392.83</td>\n",
              "      <td>4.03</td>\n",
              "      <td>34.7</td>\n",
              "    </tr>\n",
              "    <tr>\n",
              "      <th>3</th>\n",
              "      <td>0.03237</td>\n",
              "      <td>0.0</td>\n",
              "      <td>2.18</td>\n",
              "      <td>0.0</td>\n",
              "      <td>0.458</td>\n",
              "      <td>6.998</td>\n",
              "      <td>45.8</td>\n",
              "      <td>6.0622</td>\n",
              "      <td>3.0</td>\n",
              "      <td>222.0</td>\n",
              "      <td>18.7</td>\n",
              "      <td>394.63</td>\n",
              "      <td>2.94</td>\n",
              "      <td>33.4</td>\n",
              "    </tr>\n",
              "    <tr>\n",
              "      <th>4</th>\n",
              "      <td>0.06905</td>\n",
              "      <td>0.0</td>\n",
              "      <td>2.18</td>\n",
              "      <td>0.0</td>\n",
              "      <td>0.458</td>\n",
              "      <td>7.147</td>\n",
              "      <td>54.2</td>\n",
              "      <td>6.0622</td>\n",
              "      <td>3.0</td>\n",
              "      <td>222.0</td>\n",
              "      <td>18.7</td>\n",
              "      <td>396.90</td>\n",
              "      <td>5.33</td>\n",
              "      <td>36.2</td>\n",
              "    </tr>\n",
              "  </tbody>\n",
              "</table>\n",
              "</div>\n",
              "      <button class=\"colab-df-convert\" onclick=\"convertToInteractive('df-2b2151d9-f504-493a-bedf-78edccd7b658')\"\n",
              "              title=\"Convert this dataframe to an interactive table.\"\n",
              "              style=\"display:none;\">\n",
              "        \n",
              "  <svg xmlns=\"http://www.w3.org/2000/svg\" height=\"24px\"viewBox=\"0 0 24 24\"\n",
              "       width=\"24px\">\n",
              "    <path d=\"M0 0h24v24H0V0z\" fill=\"none\"/>\n",
              "    <path d=\"M18.56 5.44l.94 2.06.94-2.06 2.06-.94-2.06-.94-.94-2.06-.94 2.06-2.06.94zm-11 1L8.5 8.5l.94-2.06 2.06-.94-2.06-.94L8.5 2.5l-.94 2.06-2.06.94zm10 10l.94 2.06.94-2.06 2.06-.94-2.06-.94-.94-2.06-.94 2.06-2.06.94z\"/><path d=\"M17.41 7.96l-1.37-1.37c-.4-.4-.92-.59-1.43-.59-.52 0-1.04.2-1.43.59L10.3 9.45l-7.72 7.72c-.78.78-.78 2.05 0 2.83L4 21.41c.39.39.9.59 1.41.59.51 0 1.02-.2 1.41-.59l7.78-7.78 2.81-2.81c.8-.78.8-2.07 0-2.86zM5.41 20L4 18.59l7.72-7.72 1.47 1.35L5.41 20z\"/>\n",
              "  </svg>\n",
              "      </button>\n",
              "      \n",
              "  <style>\n",
              "    .colab-df-container {\n",
              "      display:flex;\n",
              "      flex-wrap:wrap;\n",
              "      gap: 12px;\n",
              "    }\n",
              "\n",
              "    .colab-df-convert {\n",
              "      background-color: #E8F0FE;\n",
              "      border: none;\n",
              "      border-radius: 50%;\n",
              "      cursor: pointer;\n",
              "      display: none;\n",
              "      fill: #1967D2;\n",
              "      height: 32px;\n",
              "      padding: 0 0 0 0;\n",
              "      width: 32px;\n",
              "    }\n",
              "\n",
              "    .colab-df-convert:hover {\n",
              "      background-color: #E2EBFA;\n",
              "      box-shadow: 0px 1px 2px rgba(60, 64, 67, 0.3), 0px 1px 3px 1px rgba(60, 64, 67, 0.15);\n",
              "      fill: #174EA6;\n",
              "    }\n",
              "\n",
              "    [theme=dark] .colab-df-convert {\n",
              "      background-color: #3B4455;\n",
              "      fill: #D2E3FC;\n",
              "    }\n",
              "\n",
              "    [theme=dark] .colab-df-convert:hover {\n",
              "      background-color: #434B5C;\n",
              "      box-shadow: 0px 1px 3px 1px rgba(0, 0, 0, 0.15);\n",
              "      filter: drop-shadow(0px 1px 2px rgba(0, 0, 0, 0.3));\n",
              "      fill: #FFFFFF;\n",
              "    }\n",
              "  </style>\n",
              "\n",
              "      <script>\n",
              "        const buttonEl =\n",
              "          document.querySelector('#df-2b2151d9-f504-493a-bedf-78edccd7b658 button.colab-df-convert');\n",
              "        buttonEl.style.display =\n",
              "          google.colab.kernel.accessAllowed ? 'block' : 'none';\n",
              "\n",
              "        async function convertToInteractive(key) {\n",
              "          const element = document.querySelector('#df-2b2151d9-f504-493a-bedf-78edccd7b658');\n",
              "          const dataTable =\n",
              "            await google.colab.kernel.invokeFunction('convertToInteractive',\n",
              "                                                     [key], {});\n",
              "          if (!dataTable) return;\n",
              "\n",
              "          const docLinkHtml = 'Like what you see? Visit the ' +\n",
              "            '<a target=\"_blank\" href=https://colab.research.google.com/notebooks/data_table.ipynb>data table notebook</a>'\n",
              "            + ' to learn more about interactive tables.';\n",
              "          element.innerHTML = '';\n",
              "          dataTable['output_type'] = 'display_data';\n",
              "          await google.colab.output.renderOutput(dataTable, element);\n",
              "          const docLink = document.createElement('div');\n",
              "          docLink.innerHTML = docLinkHtml;\n",
              "          element.appendChild(docLink);\n",
              "        }\n",
              "      </script>\n",
              "    </div>\n",
              "  </div>\n",
              "  "
            ]
          },
          "metadata": {},
          "execution_count": 6
        }
      ],
      "source": [
        "boston.head()"
      ]
    },
    {
      "cell_type": "code",
      "execution_count": 6,
      "metadata": {
        "id": "SEjY7RntaTcQ"
      },
      "outputs": [],
      "source": []
    },
    {
      "cell_type": "code",
      "execution_count": 7,
      "metadata": {
        "id": "VAnQomFQaTcR",
        "outputId": "7aa678dc-efa3-4237-9d4c-ef2bd9ee4ca7",
        "colab": {
          "base_uri": "https://localhost:8080/",
          "height": 300
        }
      },
      "outputs": [
        {
          "output_type": "execute_result",
          "data": {
            "text/plain": [
              "             CRIM          ZN       INDUS        CHAS         NOX          RM  \\\n",
              "count  506.000000  506.000000  506.000000  506.000000  506.000000  506.000000   \n",
              "mean     3.613524   11.363636   11.136779    0.069170    0.554695    6.284634   \n",
              "std      8.601545   23.322453    6.860353    0.253994    0.115878    0.702617   \n",
              "min      0.006320    0.000000    0.460000    0.000000    0.385000    3.561000   \n",
              "25%      0.082045    0.000000    5.190000    0.000000    0.449000    5.885500   \n",
              "50%      0.256510    0.000000    9.690000    0.000000    0.538000    6.208500   \n",
              "75%      3.677083   12.500000   18.100000    0.000000    0.624000    6.623500   \n",
              "max     88.976200  100.000000   27.740000    1.000000    0.871000    8.780000   \n",
              "\n",
              "              AGE         DIS         RAD         TAX     PTRATIO           B  \\\n",
              "count  506.000000  506.000000  506.000000  506.000000  506.000000  506.000000   \n",
              "mean    68.574901    3.795043    9.549407  408.237154   18.455534  356.674032   \n",
              "std     28.148861    2.105710    8.707259  168.537116    2.164946   91.294864   \n",
              "min      2.900000    1.129600    1.000000  187.000000   12.600000    0.320000   \n",
              "25%     45.025000    2.100175    4.000000  279.000000   17.400000  375.377500   \n",
              "50%     77.500000    3.207450    5.000000  330.000000   19.050000  391.440000   \n",
              "75%     94.075000    5.188425   24.000000  666.000000   20.200000  396.225000   \n",
              "max    100.000000   12.126500   24.000000  711.000000   22.000000  396.900000   \n",
              "\n",
              "            LSTAT        MEDV  \n",
              "count  506.000000  506.000000  \n",
              "mean    12.653063   22.532806  \n",
              "std      7.141062    9.197104  \n",
              "min      1.730000    5.000000  \n",
              "25%      6.950000   17.025000  \n",
              "50%     11.360000   21.200000  \n",
              "75%     16.955000   25.000000  \n",
              "max     37.970000   50.000000  "
            ],
            "text/html": [
              "\n",
              "  <div id=\"df-aa3b53c7-b199-4825-86b2-bd885579a3eb\">\n",
              "    <div class=\"colab-df-container\">\n",
              "      <div>\n",
              "<style scoped>\n",
              "    .dataframe tbody tr th:only-of-type {\n",
              "        vertical-align: middle;\n",
              "    }\n",
              "\n",
              "    .dataframe tbody tr th {\n",
              "        vertical-align: top;\n",
              "    }\n",
              "\n",
              "    .dataframe thead th {\n",
              "        text-align: right;\n",
              "    }\n",
              "</style>\n",
              "<table border=\"1\" class=\"dataframe\">\n",
              "  <thead>\n",
              "    <tr style=\"text-align: right;\">\n",
              "      <th></th>\n",
              "      <th>CRIM</th>\n",
              "      <th>ZN</th>\n",
              "      <th>INDUS</th>\n",
              "      <th>CHAS</th>\n",
              "      <th>NOX</th>\n",
              "      <th>RM</th>\n",
              "      <th>AGE</th>\n",
              "      <th>DIS</th>\n",
              "      <th>RAD</th>\n",
              "      <th>TAX</th>\n",
              "      <th>PTRATIO</th>\n",
              "      <th>B</th>\n",
              "      <th>LSTAT</th>\n",
              "      <th>MEDV</th>\n",
              "    </tr>\n",
              "  </thead>\n",
              "  <tbody>\n",
              "    <tr>\n",
              "      <th>count</th>\n",
              "      <td>506.000000</td>\n",
              "      <td>506.000000</td>\n",
              "      <td>506.000000</td>\n",
              "      <td>506.000000</td>\n",
              "      <td>506.000000</td>\n",
              "      <td>506.000000</td>\n",
              "      <td>506.000000</td>\n",
              "      <td>506.000000</td>\n",
              "      <td>506.000000</td>\n",
              "      <td>506.000000</td>\n",
              "      <td>506.000000</td>\n",
              "      <td>506.000000</td>\n",
              "      <td>506.000000</td>\n",
              "      <td>506.000000</td>\n",
              "    </tr>\n",
              "    <tr>\n",
              "      <th>mean</th>\n",
              "      <td>3.613524</td>\n",
              "      <td>11.363636</td>\n",
              "      <td>11.136779</td>\n",
              "      <td>0.069170</td>\n",
              "      <td>0.554695</td>\n",
              "      <td>6.284634</td>\n",
              "      <td>68.574901</td>\n",
              "      <td>3.795043</td>\n",
              "      <td>9.549407</td>\n",
              "      <td>408.237154</td>\n",
              "      <td>18.455534</td>\n",
              "      <td>356.674032</td>\n",
              "      <td>12.653063</td>\n",
              "      <td>22.532806</td>\n",
              "    </tr>\n",
              "    <tr>\n",
              "      <th>std</th>\n",
              "      <td>8.601545</td>\n",
              "      <td>23.322453</td>\n",
              "      <td>6.860353</td>\n",
              "      <td>0.253994</td>\n",
              "      <td>0.115878</td>\n",
              "      <td>0.702617</td>\n",
              "      <td>28.148861</td>\n",
              "      <td>2.105710</td>\n",
              "      <td>8.707259</td>\n",
              "      <td>168.537116</td>\n",
              "      <td>2.164946</td>\n",
              "      <td>91.294864</td>\n",
              "      <td>7.141062</td>\n",
              "      <td>9.197104</td>\n",
              "    </tr>\n",
              "    <tr>\n",
              "      <th>min</th>\n",
              "      <td>0.006320</td>\n",
              "      <td>0.000000</td>\n",
              "      <td>0.460000</td>\n",
              "      <td>0.000000</td>\n",
              "      <td>0.385000</td>\n",
              "      <td>3.561000</td>\n",
              "      <td>2.900000</td>\n",
              "      <td>1.129600</td>\n",
              "      <td>1.000000</td>\n",
              "      <td>187.000000</td>\n",
              "      <td>12.600000</td>\n",
              "      <td>0.320000</td>\n",
              "      <td>1.730000</td>\n",
              "      <td>5.000000</td>\n",
              "    </tr>\n",
              "    <tr>\n",
              "      <th>25%</th>\n",
              "      <td>0.082045</td>\n",
              "      <td>0.000000</td>\n",
              "      <td>5.190000</td>\n",
              "      <td>0.000000</td>\n",
              "      <td>0.449000</td>\n",
              "      <td>5.885500</td>\n",
              "      <td>45.025000</td>\n",
              "      <td>2.100175</td>\n",
              "      <td>4.000000</td>\n",
              "      <td>279.000000</td>\n",
              "      <td>17.400000</td>\n",
              "      <td>375.377500</td>\n",
              "      <td>6.950000</td>\n",
              "      <td>17.025000</td>\n",
              "    </tr>\n",
              "    <tr>\n",
              "      <th>50%</th>\n",
              "      <td>0.256510</td>\n",
              "      <td>0.000000</td>\n",
              "      <td>9.690000</td>\n",
              "      <td>0.000000</td>\n",
              "      <td>0.538000</td>\n",
              "      <td>6.208500</td>\n",
              "      <td>77.500000</td>\n",
              "      <td>3.207450</td>\n",
              "      <td>5.000000</td>\n",
              "      <td>330.000000</td>\n",
              "      <td>19.050000</td>\n",
              "      <td>391.440000</td>\n",
              "      <td>11.360000</td>\n",
              "      <td>21.200000</td>\n",
              "    </tr>\n",
              "    <tr>\n",
              "      <th>75%</th>\n",
              "      <td>3.677083</td>\n",
              "      <td>12.500000</td>\n",
              "      <td>18.100000</td>\n",
              "      <td>0.000000</td>\n",
              "      <td>0.624000</td>\n",
              "      <td>6.623500</td>\n",
              "      <td>94.075000</td>\n",
              "      <td>5.188425</td>\n",
              "      <td>24.000000</td>\n",
              "      <td>666.000000</td>\n",
              "      <td>20.200000</td>\n",
              "      <td>396.225000</td>\n",
              "      <td>16.955000</td>\n",
              "      <td>25.000000</td>\n",
              "    </tr>\n",
              "    <tr>\n",
              "      <th>max</th>\n",
              "      <td>88.976200</td>\n",
              "      <td>100.000000</td>\n",
              "      <td>27.740000</td>\n",
              "      <td>1.000000</td>\n",
              "      <td>0.871000</td>\n",
              "      <td>8.780000</td>\n",
              "      <td>100.000000</td>\n",
              "      <td>12.126500</td>\n",
              "      <td>24.000000</td>\n",
              "      <td>711.000000</td>\n",
              "      <td>22.000000</td>\n",
              "      <td>396.900000</td>\n",
              "      <td>37.970000</td>\n",
              "      <td>50.000000</td>\n",
              "    </tr>\n",
              "  </tbody>\n",
              "</table>\n",
              "</div>\n",
              "      <button class=\"colab-df-convert\" onclick=\"convertToInteractive('df-aa3b53c7-b199-4825-86b2-bd885579a3eb')\"\n",
              "              title=\"Convert this dataframe to an interactive table.\"\n",
              "              style=\"display:none;\">\n",
              "        \n",
              "  <svg xmlns=\"http://www.w3.org/2000/svg\" height=\"24px\"viewBox=\"0 0 24 24\"\n",
              "       width=\"24px\">\n",
              "    <path d=\"M0 0h24v24H0V0z\" fill=\"none\"/>\n",
              "    <path d=\"M18.56 5.44l.94 2.06.94-2.06 2.06-.94-2.06-.94-.94-2.06-.94 2.06-2.06.94zm-11 1L8.5 8.5l.94-2.06 2.06-.94-2.06-.94L8.5 2.5l-.94 2.06-2.06.94zm10 10l.94 2.06.94-2.06 2.06-.94-2.06-.94-.94-2.06-.94 2.06-2.06.94z\"/><path d=\"M17.41 7.96l-1.37-1.37c-.4-.4-.92-.59-1.43-.59-.52 0-1.04.2-1.43.59L10.3 9.45l-7.72 7.72c-.78.78-.78 2.05 0 2.83L4 21.41c.39.39.9.59 1.41.59.51 0 1.02-.2 1.41-.59l7.78-7.78 2.81-2.81c.8-.78.8-2.07 0-2.86zM5.41 20L4 18.59l7.72-7.72 1.47 1.35L5.41 20z\"/>\n",
              "  </svg>\n",
              "      </button>\n",
              "      \n",
              "  <style>\n",
              "    .colab-df-container {\n",
              "      display:flex;\n",
              "      flex-wrap:wrap;\n",
              "      gap: 12px;\n",
              "    }\n",
              "\n",
              "    .colab-df-convert {\n",
              "      background-color: #E8F0FE;\n",
              "      border: none;\n",
              "      border-radius: 50%;\n",
              "      cursor: pointer;\n",
              "      display: none;\n",
              "      fill: #1967D2;\n",
              "      height: 32px;\n",
              "      padding: 0 0 0 0;\n",
              "      width: 32px;\n",
              "    }\n",
              "\n",
              "    .colab-df-convert:hover {\n",
              "      background-color: #E2EBFA;\n",
              "      box-shadow: 0px 1px 2px rgba(60, 64, 67, 0.3), 0px 1px 3px 1px rgba(60, 64, 67, 0.15);\n",
              "      fill: #174EA6;\n",
              "    }\n",
              "\n",
              "    [theme=dark] .colab-df-convert {\n",
              "      background-color: #3B4455;\n",
              "      fill: #D2E3FC;\n",
              "    }\n",
              "\n",
              "    [theme=dark] .colab-df-convert:hover {\n",
              "      background-color: #434B5C;\n",
              "      box-shadow: 0px 1px 3px 1px rgba(0, 0, 0, 0.15);\n",
              "      filter: drop-shadow(0px 1px 2px rgba(0, 0, 0, 0.3));\n",
              "      fill: #FFFFFF;\n",
              "    }\n",
              "  </style>\n",
              "\n",
              "      <script>\n",
              "        const buttonEl =\n",
              "          document.querySelector('#df-aa3b53c7-b199-4825-86b2-bd885579a3eb button.colab-df-convert');\n",
              "        buttonEl.style.display =\n",
              "          google.colab.kernel.accessAllowed ? 'block' : 'none';\n",
              "\n",
              "        async function convertToInteractive(key) {\n",
              "          const element = document.querySelector('#df-aa3b53c7-b199-4825-86b2-bd885579a3eb');\n",
              "          const dataTable =\n",
              "            await google.colab.kernel.invokeFunction('convertToInteractive',\n",
              "                                                     [key], {});\n",
              "          if (!dataTable) return;\n",
              "\n",
              "          const docLinkHtml = 'Like what you see? Visit the ' +\n",
              "            '<a target=\"_blank\" href=https://colab.research.google.com/notebooks/data_table.ipynb>data table notebook</a>'\n",
              "            + ' to learn more about interactive tables.';\n",
              "          element.innerHTML = '';\n",
              "          dataTable['output_type'] = 'display_data';\n",
              "          await google.colab.output.renderOutput(dataTable, element);\n",
              "          const docLink = document.createElement('div');\n",
              "          docLink.innerHTML = docLinkHtml;\n",
              "          element.appendChild(docLink);\n",
              "        }\n",
              "      </script>\n",
              "    </div>\n",
              "  </div>\n",
              "  "
            ]
          },
          "metadata": {},
          "execution_count": 7
        }
      ],
      "source": [
        "# Summary of data\n",
        "boston.describe()"
      ]
    },
    {
      "cell_type": "code",
      "execution_count": 8,
      "metadata": {
        "id": "rE88xy3AaTcS",
        "outputId": "ac31037b-a050-482b-aadf-062455572b11",
        "colab": {
          "base_uri": "https://localhost:8080/"
        }
      },
      "outputs": [
        {
          "output_type": "stream",
          "name": "stdout",
          "text": [
            "<class 'pandas.core.frame.DataFrame'>\n",
            "RangeIndex: 506 entries, 0 to 505\n",
            "Data columns (total 14 columns):\n",
            " #   Column   Non-Null Count  Dtype  \n",
            "---  ------   --------------  -----  \n",
            " 0   CRIM     506 non-null    float64\n",
            " 1   ZN       506 non-null    float64\n",
            " 2   INDUS    506 non-null    float64\n",
            " 3   CHAS     506 non-null    float64\n",
            " 4   NOX      506 non-null    float64\n",
            " 5   RM       506 non-null    float64\n",
            " 6   AGE      506 non-null    float64\n",
            " 7   DIS      506 non-null    float64\n",
            " 8   RAD      506 non-null    float64\n",
            " 9   TAX      506 non-null    float64\n",
            " 10  PTRATIO  506 non-null    float64\n",
            " 11  B        506 non-null    float64\n",
            " 12  LSTAT    506 non-null    float64\n",
            " 13  MEDV     506 non-null    float64\n",
            "dtypes: float64(14)\n",
            "memory usage: 55.5 KB\n"
          ]
        }
      ],
      "source": [
        "# Checking if there is any null value\n",
        "boston.info()"
      ]
    },
    {
      "cell_type": "code",
      "execution_count": 9,
      "metadata": {
        "id": "aGaK00staTcT",
        "outputId": "21a7e52b-faa1-4e58-baa7-889ac066c364",
        "colab": {
          "base_uri": "https://localhost:8080/"
        }
      },
      "outputs": [
        {
          "output_type": "execute_result",
          "data": {
            "text/plain": [
              "(506, 14)"
            ]
          },
          "metadata": {},
          "execution_count": 9
        }
      ],
      "source": [
        "boston.shape"
      ]
    },
    {
      "cell_type": "code",
      "execution_count": 10,
      "metadata": {
        "id": "PxrAHTFYaTcU",
        "outputId": "9999f8d0-22b8-4fed-da49-2015c4942d60",
        "colab": {
          "base_uri": "https://localhost:8080/"
        }
      },
      "outputs": [
        {
          "output_type": "stream",
          "name": "stdout",
          "text": [
            "[[6.3200e-03 1.8000e+01 2.3100e+00 ... 1.5300e+01 3.9690e+02 4.9800e+00]\n",
            " [2.7310e-02 0.0000e+00 7.0700e+00 ... 1.7800e+01 3.9690e+02 9.1400e+00]\n",
            " [2.7290e-02 0.0000e+00 7.0700e+00 ... 1.7800e+01 3.9283e+02 4.0300e+00]\n",
            " ...\n",
            " [6.0760e-02 0.0000e+00 1.1930e+01 ... 2.1000e+01 3.9690e+02 5.6400e+00]\n",
            " [1.0959e-01 0.0000e+00 1.1930e+01 ... 2.1000e+01 3.9345e+02 6.4800e+00]\n",
            " [4.7410e-02 0.0000e+00 1.1930e+01 ... 2.1000e+01 3.9690e+02 7.8800e+00]]\n",
            "[24.  21.6 34.7 33.4 36.2 28.7 22.9 27.1 16.5 18.9 15.  18.9 21.7 20.4\n",
            " 18.2 19.9 23.1 17.5 20.2 18.2 13.6 19.6 15.2 14.5 15.6 13.9 16.6 14.8\n",
            " 18.4 21.  12.7 14.5 13.2 13.1 13.5 18.9 20.  21.  24.7 30.8 34.9 26.6\n",
            " 25.3 24.7 21.2 19.3 20.  16.6 14.4 19.4 19.7 20.5 25.  23.4 18.9 35.4\n",
            " 24.7 31.6 23.3 19.6 18.7 16.  22.2 25.  33.  23.5 19.4 22.  17.4 20.9\n",
            " 24.2 21.7 22.8 23.4 24.1 21.4 20.  20.8 21.2 20.3 28.  23.9 24.8 22.9\n",
            " 23.9 26.6 22.5 22.2 23.6 28.7 22.6 22.  22.9 25.  20.6 28.4 21.4 38.7\n",
            " 43.8 33.2 27.5 26.5 18.6 19.3 20.1 19.5 19.5 20.4 19.8 19.4 21.7 22.8\n",
            " 18.8 18.7 18.5 18.3 21.2 19.2 20.4 19.3 22.  20.3 20.5 17.3 18.8 21.4\n",
            " 15.7 16.2 18.  14.3 19.2 19.6 23.  18.4 15.6 18.1 17.4 17.1 13.3 17.8\n",
            " 14.  14.4 13.4 15.6 11.8 13.8 15.6 14.6 17.8 15.4 21.5 19.6 15.3 19.4\n",
            " 17.  15.6 13.1 41.3 24.3 23.3 27.  50.  50.  50.  22.7 25.  50.  23.8\n",
            " 23.8 22.3 17.4 19.1 23.1 23.6 22.6 29.4 23.2 24.6 29.9 37.2 39.8 36.2\n",
            " 37.9 32.5 26.4 29.6 50.  32.  29.8 34.9 37.  30.5 36.4 31.1 29.1 50.\n",
            " 33.3 30.3 34.6 34.9 32.9 24.1 42.3 48.5 50.  22.6 24.4 22.5 24.4 20.\n",
            " 21.7 19.3 22.4 28.1 23.7 25.  23.3 28.7 21.5 23.  26.7 21.7 27.5 30.1\n",
            " 44.8 50.  37.6 31.6 46.7 31.5 24.3 31.7 41.7 48.3 29.  24.  25.1 31.5\n",
            " 23.7 23.3 22.  20.1 22.2 23.7 17.6 18.5 24.3 20.5 24.5 26.2 24.4 24.8\n",
            " 29.6 42.8 21.9 20.9 44.  50.  36.  30.1 33.8 43.1 48.8 31.  36.5 22.8\n",
            " 30.7 50.  43.5 20.7 21.1 25.2 24.4 35.2 32.4 32.  33.2 33.1 29.1 35.1\n",
            " 45.4 35.4 46.  50.  32.2 22.  20.1 23.2 22.3 24.8 28.5 37.3 27.9 23.9\n",
            " 21.7 28.6 27.1 20.3 22.5 29.  24.8 22.  26.4 33.1 36.1 28.4 33.4 28.2\n",
            " 22.8 20.3 16.1 22.1 19.4 21.6 23.8 16.2 17.8 19.8 23.1 21.  23.8 23.1\n",
            " 20.4 18.5 25.  24.6 23.  22.2 19.3 22.6 19.8 17.1 19.4 22.2 20.7 21.1\n",
            " 19.5 18.5 20.6 19.  18.7 32.7 16.5 23.9 31.2 17.5 17.2 23.1 24.5 26.6\n",
            " 22.9 24.1 18.6 30.1 18.2 20.6 17.8 21.7 22.7 22.6 25.  19.9 20.8 16.8\n",
            " 21.9 27.5 21.9 23.1 50.  50.  50.  50.  50.  13.8 13.8 15.  13.9 13.3\n",
            " 13.1 10.2 10.4 10.9 11.3 12.3  8.8  7.2 10.5  7.4 10.2 11.5 15.1 23.2\n",
            "  9.7 13.8 12.7 13.1 12.5  8.5  5.   6.3  5.6  7.2 12.1  8.3  8.5  5.\n",
            " 11.9 27.9 17.2 27.5 15.  17.2 17.9 16.3  7.   7.2  7.5 10.4  8.8  8.4\n",
            " 16.7 14.2 20.8 13.4 11.7  8.3 10.2 10.9 11.   9.5 14.5 14.1 16.1 14.3\n",
            " 11.7 13.4  9.6  8.7  8.4 12.8 10.5 17.1 18.4 15.4 10.8 11.8 14.9 12.6\n",
            " 14.1 13.  13.4 15.2 16.1 17.8 14.9 14.1 12.7 13.5 14.9 20.  16.4 17.7\n",
            " 19.5 20.2 21.4 19.9 19.  19.1 19.1 20.1 19.9 19.6 23.2 29.8 13.8 13.3\n",
            " 16.7 12.  14.6 21.4 23.  23.7 25.  21.8 20.6 21.2 19.1 20.6 15.2  7.\n",
            "  8.1 13.6 20.1 21.8 24.5 23.1 19.7 18.3 21.2 17.5 16.8 22.4 20.6 23.9\n",
            " 22.  11.9]\n"
          ]
        }
      ],
      "source": [
        "# Separating Dependent and Independent Variables\n",
        "X = boston.drop(columns = ['MEDV'], axis = 1).values\n",
        "Y = boston['MEDV'].values\n",
        "print(X)\n",
        "print(Y)"
      ]
    },
    {
      "cell_type": "code",
      "execution_count": 11,
      "metadata": {
        "id": "tVM1NundaTcV"
      },
      "outputs": [],
      "source": [
        "# Plotting scatterplot of all columns with MEDV"
      ]
    },
    {
      "cell_type": "code",
      "execution_count": 12,
      "metadata": {
        "id": "K8dZsD4BaTcW",
        "outputId": "f1a2b15a-6915-46c9-9766-04d8490ec0b0",
        "colab": {
          "base_uri": "https://localhost:8080/",
          "height": 295
        }
      },
      "outputs": [
        {
          "output_type": "display_data",
          "data": {
            "text/plain": [
              "<Figure size 432x288 with 1 Axes>"
            ],
            "image/png": "[encoded data removed]"
          },
          "metadata": {
            "needs_background": "light"
          }
        }
      ],
      "source": [
        "plt.scatter(boston['CRIM'],boston['MEDV'])\n",
        "plt.xlabel('CRIM')\n",
        "plt.ylabel('MEDV')\n",
        "plt.title('CRIM vs MEDV')\n",
        "plt.show()"
      ]
    },
    {
      "cell_type": "code",
      "execution_count": 13,
      "metadata": {
        "id": "LHEVkOgiaTcX",
        "outputId": "fcf5d2ae-5f10-40e7-b1cb-ecf929afda56",
        "colab": {
          "base_uri": "https://localhost:8080/",
          "height": 295
        }
      },
      "outputs": [
        {
          "output_type": "display_data",
          "data": {
            "text/plain": [
              "<Figure size 432x288 with 1 Axes>"
            ],
            "image/png": "[encoded data removed]"
          },
          "metadata": {
            "needs_background": "light"
          }
        }
      ],
      "source": [
        "plt.scatter(boston['ZN'],boston['MEDV'])\n",
        "plt.ylabel('MEDV')\n",
        "plt.xlabel('ZN')\n",
        "plt.title('ZN vs MEDV')\n",
        "plt.show()"
      ]
    },
    {
      "cell_type": "code",
      "execution_count": 14,
      "metadata": {
        "id": "DMfepJ5oaTcX",
        "outputId": "b264ff3d-a874-448c-9a2d-b6e3c47a188e",
        "colab": {
          "base_uri": "https://localhost:8080/",
          "height": 295
        }
      },
      "outputs": [
        {
          "output_type": "display_data",
          "data": {
            "text/plain": [
              "<Figure size 432x288 with 1 Axes>"
            ],
            "image/png": "[encoded data removed]"
          },
          "metadata": {
            "needs_background": "light"
          }
        }
      ],
      "source": [
        "plt.scatter(boston['INDUS'],boston['MEDV'])\n",
        "plt.ylabel('MEDV')\n",
        "plt.xlabel('INDUS')\n",
        "plt.title('MEDV vs INDUS')\n",
        "plt.show()"
      ]
    },
    {
      "cell_type": "code",
      "execution_count": 15,
      "metadata": {
        "id": "ZgWTAQS_aTcY",
        "outputId": "8f01bfa0-84dc-4155-a3d1-50bdfd22da62",
        "colab": {
          "base_uri": "https://localhost:8080/",
          "height": 295
        }
      },
      "outputs": [
        {
          "output_type": "display_data",
          "data": {
            "text/plain": [
              "<Figure size 432x288 with 1 Axes>"
            ],
            "image/png": "[encoded data removed]"
          },
          "metadata": {
            "needs_background": "light"
          }
        }
      ],
      "source": [
        "plt.scatter(boston['CHAS'],boston['MEDV'])\n",
        "plt.ylabel('MEDV')\n",
        "plt.xlabel('CHAS')\n",
        "plt.title('MEDV vs CHAS')\n",
        "plt.show()"
      ]
    },
    {
      "cell_type": "code",
      "execution_count": 16,
      "metadata": {
        "id": "DF5HNAMfaTcZ",
        "outputId": "6777384d-c56d-4e37-f6ef-5466650b0300",
        "colab": {
          "base_uri": "https://localhost:8080/",
          "height": 295
        }
      },
      "outputs": [
        {
          "output_type": "display_data",
          "data": {
            "text/plain": [
              "<Figure size 432x288 with 1 Axes>"
            ],
            "image/png": "[encoded data removed]"
          },
          "metadata": {
            "needs_background": "light"
          }
        }
      ],
      "source": [
        "plt.scatter(boston['NOX'],boston['MEDV'])\n",
        "plt.ylabel('MEDV')\n",
        "plt.xlabel('NOX')\n",
        "plt.title('MEDV vs NOX')\n",
        "plt.show()"
      ]
    },
    {
      "cell_type": "code",
      "execution_count": 17,
      "metadata": {
        "id": "RD5fxdF1aTca",
        "outputId": "efc5b0e6-fc73-4bb5-8bad-9d04c1931db6",
        "colab": {
          "base_uri": "https://localhost:8080/",
          "height": 295
        }
      },
      "outputs": [
        {
          "output_type": "display_data",
          "data": {
            "text/plain": [
              "<Figure size 432x288 with 1 Axes>"
            ],
            "image/png": "[encoded data removed]"
          },
          "metadata": {
            "needs_background": "light"
          }
        }
      ],
      "source": [
        "plt.scatter(boston['RM'],boston['MEDV'])\n",
        "plt.ylabel('MEDV')\n",
        "plt.xlabel('RM')\n",
        "plt.title('MEDV vs RM')\n",
        "plt.show()"
      ]
    },
    {
      "cell_type": "code",
      "execution_count": 18,
      "metadata": {
        "id": "jNhVDmHKaTcb",
        "outputId": "adf5e32d-537c-4dbd-d9d3-97b5901129dc",
        "colab": {
          "base_uri": "https://localhost:8080/",
          "height": 295
        }
      },
      "outputs": [
        {
          "output_type": "display_data",
          "data": {
            "text/plain": [
              "<Figure size 432x288 with 1 Axes>"
            ],
            "image/png": "[encoded data removed]"
          },
          "metadata": {
            "needs_background": "light"
          }
        }
      ],
      "source": [
        "plt.scatter(boston['AGE'],boston['MEDV'])\n",
        "plt.ylabel('MEDV')\n",
        "plt.xlabel('AGE')\n",
        "plt.title('MEDV vs AGE')\n",
        "plt.show()"
      ]
    },
    {
      "cell_type": "code",
      "execution_count": 19,
      "metadata": {
        "id": "8FVkZvsOaTcc",
        "outputId": "b468bbe1-ab26-4653-ef7f-3d590d38d3f7",
        "colab": {
          "base_uri": "https://localhost:8080/",
          "height": 295
        }
      },
      "outputs": [
        {
          "output_type": "display_data",
          "data": {
            "text/plain": [
              "<Figure size 432x288 with 1 Axes>"
            ],
            "image/png": "[encoded data removed]"
          },
          "metadata": {
            "needs_background": "light"
          }
        }
      ],
      "source": [
        "plt.scatter(boston['DIS'],boston['MEDV'])\n",
        "plt.ylabel('MEDV')\n",
        "plt.xlabel('DIS')\n",
        "plt.title('MEDV vs DIS')\n",
        "plt.show()"
      ]
    },
    {
      "cell_type": "code",
      "execution_count": 20,
      "metadata": {
        "id": "inIs82A8aTcc",
        "outputId": "0cc2232a-a4d2-4ccd-bf6c-9a4fc7909f86",
        "colab": {
          "base_uri": "https://localhost:8080/",
          "height": 295
        }
      },
      "outputs": [
        {
          "output_type": "display_data",
          "data": {
            "text/plain": [
              "<Figure size 432x288 with 1 Axes>"
            ],
            "image/png": "[encoded data removed]"
          },
          "metadata": {
            "needs_background": "light"
          }
        }
      ],
      "source": [
        "plt.scatter(boston['RAD'],boston['MEDV'])\n",
        "plt.ylabel('MEDV')\n",
        "plt.xlabel('RAD')\n",
        "plt.title('MEDV vs RAD')\n",
        "plt.show()"
      ]
    },
    {
      "cell_type": "code",
      "execution_count": 21,
      "metadata": {
        "id": "YEHk40tWaTcd",
        "outputId": "cbea10e8-ef72-4249-c933-beec835b262a",
        "colab": {
          "base_uri": "https://localhost:8080/",
          "height": 295
        }
      },
      "outputs": [
        {
          "output_type": "display_data",
          "data": {
            "text/plain": [
              "<Figure size 432x288 with 1 Axes>"
            ],
            "image/png": "[encoded data removed]"
          },
          "metadata": {
            "needs_background": "light"
          }
        }
      ],
      "source": [
        "plt.scatter(boston['TAX'],boston['MEDV'])\n",
        "plt.ylabel('MEDV')\n",
        "plt.xlabel('TAX')\n",
        "plt.title('MEDV vs TAX')\n",
        "plt.show()"
      ]
    },
    {
      "cell_type": "code",
      "execution_count": 22,
      "metadata": {
        "id": "YftdS-73aTcd",
        "outputId": "09aa9038-d02b-432c-9f36-8a9aea3b93fc",
        "colab": {
          "base_uri": "https://localhost:8080/",
          "height": 295
        }
      },
      "outputs": [
        {
          "output_type": "display_data",
          "data": {
            "text/plain": [
              "<Figure size 432x288 with 1 Axes>"
            ],
            "image/png": "[encoded data removed]"
          },
          "metadata": {
            "needs_background": "light"
          }
        }
      ],
      "source": [
        "plt.scatter(boston['PTRATIO'],boston['MEDV'])\n",
        "plt.ylabel('MEDV')\n",
        "plt.xlabel('PTRATIO')\n",
        "plt.title('MEDV vs PTRATIO')\n",
        "plt.show()"
      ]
    },
    {
      "cell_type": "code",
      "execution_count": 23,
      "metadata": {
        "id": "YT8oOi1YaTce",
        "outputId": "2cda79c2-7a11-4c63-f0c2-191b15a83416",
        "colab": {
          "base_uri": "https://localhost:8080/",
          "height": 295
        }
      },
      "outputs": [
        {
          "output_type": "display_data",
          "data": {
            "text/plain": [
              "<Figure size 432x288 with 1 Axes>"
            ],
            "image/png": "[encoded data removed]"
          },
          "metadata": {
            "needs_background": "light"
          }
        }
      ],
      "source": [
        "plt.scatter(boston['B'],boston['MEDV'])\n",
        "plt.ylabel('MEDV')\n",
        "plt.xlabel('B')\n",
        "plt.title('MEDV vs B')\n",
        "plt.show()"
      ]
    },
    {
      "cell_type": "code",
      "execution_count": 24,
      "metadata": {
        "id": "qTK8yw63aTcf",
        "outputId": "d8848251-d1e3-4f18-d24c-074319295e60",
        "colab": {
          "base_uri": "https://localhost:8080/",
          "height": 295
        }
      },
      "outputs": [
        {
          "output_type": "display_data",
          "data": {
            "text/plain": [
              "<Figure size 432x288 with 1 Axes>"
            ],
            "image/png": "[encoded data removed]"
          },
          "metadata": {
            "needs_background": "light"
          }
        }
      ],
      "source": [
        "plt.scatter(boston['LSTAT'],boston['MEDV'])\n",
        "plt.ylabel('MEDV')\n",
        "plt.xlabel('LSTAT')\n",
        "plt.title('MEDV vs LSTAT')\n",
        "plt.show()"
      ]
    },
    {
      "cell_type": "code",
      "execution_count": 25,
      "metadata": {
        "scrolled": false,
        "id": "UEcQzN4daTcf",
        "outputId": "89ba80aa-6a99-425e-83dd-cf66edd588c5",
        "colab": {
          "base_uri": "https://localhost:8080/",
          "height": 488
        }
      },
      "outputs": [
        {
          "output_type": "execute_result",
          "data": {
            "text/plain": [
              "<pandas.io.formats.style.Styler at 0x7ff65e867690>"
            ],
            "text/html": [
              "<style type=\"text/css\">\n",
              "#T_4b8bd_row0_col0, #T_4b8bd_row1_col1, #T_4b8bd_row2_col2, #T_4b8bd_row3_col3, #T_4b8bd_row4_col4, #T_4b8bd_row5_col5, #T_4b8bd_row6_col6, #T_4b8bd_row7_col7, #T_4b8bd_row8_col8, #T_4b8bd_row9_col9, #T_4b8bd_row10_col10, #T_4b8bd_row11_col11, #T_4b8bd_row12_col12, #T_4b8bd_row13_col13 {\n",
              "  background-color: #b40426;\n",
              "  color: #f1f1f1;\n",
              "}\n",
              "#T_4b8bd_row0_col1 {\n",
              "  background-color: #88abfd;\n",
              "  color: #000000;\n",
              "}\n",
              "#T_4b8bd_row0_col2 {\n",
              "  background-color: #f7bca1;\n",
              "  color: #000000;\n",
              "}\n",
              "#T_4b8bd_row0_col3 {\n",
              "  background-color: #4b64d5;\n",
              "  color: #f1f1f1;\n",
              "}\n",
              "#T_4b8bd_row0_col4 {\n",
              "  background-color: #f7b599;\n",
              "  color: #000000;\n",
              "}\n",
              "#T_4b8bd_row0_col5 {\n",
              "  background-color: #8badfd;\n",
              "  color: #000000;\n",
              "}\n",
              "#T_4b8bd_row0_col6, #T_4b8bd_row1_col13 {\n",
              "  background-color: #f5c2aa;\n",
              "  color: #000000;\n",
              "}\n",
              "#T_4b8bd_row0_col7, #T_4b8bd_row11_col4, #T_4b8bd_row11_col10 {\n",
              "  background-color: #82a6fb;\n",
              "  color: #f1f1f1;\n",
              "}\n",
              "#T_4b8bd_row0_col8 {\n",
              "  background-color: #f49a7b;\n",
              "  color: #000000;\n",
              "}\n",
              "#T_4b8bd_row0_col9, #T_4b8bd_row2_col8, #T_4b8bd_row8_col0 {\n",
              "  background-color: #f6a283;\n",
              "  color: #000000;\n",
              "}\n",
              "#T_4b8bd_row0_col10 {\n",
              "  background-color: #e4d9d2;\n",
              "  color: #000000;\n",
              "}\n",
              "#T_4b8bd_row0_col11, #T_4b8bd_row13_col9 {\n",
              "  background-color: #465ecf;\n",
              "  color: #f1f1f1;\n",
              "}\n",
              "#T_4b8bd_row0_col12 {\n",
              "  background-color: #f7b194;\n",
              "  color: #000000;\n",
              "}\n",
              "#T_4b8bd_row0_col13, #T_4b8bd_row9_col5 {\n",
              "  background-color: #7b9ff9;\n",
              "  color: #f1f1f1;\n",
              "}\n",
              "#T_4b8bd_row1_col0 {\n",
              "  background-color: #6485ec;\n",
              "  color: #f1f1f1;\n",
              "}\n",
              "#T_4b8bd_row1_col2, #T_4b8bd_row1_col6, #T_4b8bd_row8_col3 {\n",
              "  background-color: #5a78e4;\n",
              "  color: #f1f1f1;\n",
              "}\n",
              "#T_4b8bd_row1_col3 {\n",
              "  background-color: #4f69d9;\n",
              "  color: #f1f1f1;\n",
              "}\n",
              "#T_4b8bd_row1_col4, #T_4b8bd_row1_col9 {\n",
              "  background-color: #6788ee;\n",
              "  color: #f1f1f1;\n",
              "}\n",
              "#T_4b8bd_row1_col5, #T_4b8bd_row2_col0 {\n",
              "  background-color: #edd1c2;\n",
              "  color: #000000;\n",
              "}\n",
              "#T_4b8bd_row1_col7, #T_4b8bd_row9_col4, #T_4b8bd_row13_col5 {\n",
              "  background-color: #ec7f63;\n",
              "  color: #f1f1f1;\n",
              "}\n",
              "#T_4b8bd_row1_col8, #T_4b8bd_row5_col0 {\n",
              "  background-color: #6180e9;\n",
              "  color: #f1f1f1;\n",
              "}\n",
              "#T_4b8bd_row1_col10, #T_4b8bd_row9_col3, #T_4b8bd_row13_col8 {\n",
              "  background-color: #516ddb;\n",
              "  color: #f1f1f1;\n",
              "}\n",
              "#T_4b8bd_row1_col11 {\n",
              "  background-color: #c9d7f0;\n",
              "  color: #000000;\n",
              "}\n",
              "#T_4b8bd_row1_col12, #T_4b8bd_row5_col2, #T_4b8bd_row6_col3, #T_4b8bd_row10_col11 {\n",
              "  background-color: #7699f6;\n",
              "  color: #f1f1f1;\n",
              "}\n",
              "#T_4b8bd_row2_col1, #T_4b8bd_row7_col3 {\n",
              "  background-color: #4055c8;\n",
              "  color: #f1f1f1;\n",
              "}\n",
              "#T_4b8bd_row2_col3, #T_4b8bd_row8_col1 {\n",
              "  background-color: #6f92f3;\n",
              "  color: #f1f1f1;\n",
              "}\n",
              "#T_4b8bd_row2_col4 {\n",
              "  background-color: #e0654f;\n",
              "  color: #f1f1f1;\n",
              "}\n",
              "#T_4b8bd_row2_col5, #T_4b8bd_row7_col12 {\n",
              "  background-color: #6687ed;\n",
              "  color: #f1f1f1;\n",
              "}\n",
              "#T_4b8bd_row2_col6 {\n",
              "  background-color: #ee8669;\n",
              "  color: #f1f1f1;\n",
              "}\n",
              "#T_4b8bd_row2_col7, #T_4b8bd_row4_col1, #T_4b8bd_row11_col8 {\n",
              "  background-color: #445acc;\n",
              "  color: #f1f1f1;\n",
              "}\n",
              "#T_4b8bd_row2_col9 {\n",
              "  background-color: #ea7b60;\n",
              "  color: #f1f1f1;\n",
              "}\n",
              "#T_4b8bd_row2_col10, #T_4b8bd_row13_col1 {\n",
              "  background-color: #f1cdba;\n",
              "  color: #000000;\n",
              "}\n",
              "#T_4b8bd_row2_col11, #T_4b8bd_row11_col9, #T_4b8bd_row12_col3 {\n",
              "  background-color: #4c66d6;\n",
              "  color: #f1f1f1;\n",
              "}\n",
              "#T_4b8bd_row2_col12, #T_4b8bd_row6_col12, #T_4b8bd_row12_col6 {\n",
              "  background-color: #f29072;\n",
              "  color: #f1f1f1;\n",
              "}\n",
              "#T_4b8bd_row2_col13 {\n",
              "  background-color: #688aef;\n",
              "  color: #f1f1f1;\n",
              "}\n",
              "#T_4b8bd_row3_col0 {\n",
              "  background-color: #89acfd;\n",
              "  color: #000000;\n",
              "}\n",
              "#T_4b8bd_row3_col1 {\n",
              "  background-color: #aac7fd;\n",
              "  color: #000000;\n",
              "}\n",
              "#T_4b8bd_row3_col2 {\n",
              "  background-color: #cfdaea;\n",
              "  color: #000000;\n",
              "}\n",
              "#T_4b8bd_row3_col4 {\n",
              "  background-color: #d9dce1;\n",
              "  color: #000000;\n",
              "}\n",
              "#T_4b8bd_row3_col5 {\n",
              "  background-color: #cbd8ee;\n",
              "  color: #000000;\n",
              "}\n",
              "#T_4b8bd_row3_col6 {\n",
              "  background-color: #d7dce3;\n",
              "  color: #000000;\n",
              "}\n",
              "#T_4b8bd_row3_col7 {\n",
              "  background-color: #b9d0f9;\n",
              "  color: #000000;\n",
              "}\n",
              "#T_4b8bd_row3_col8, #T_4b8bd_row3_col9 {\n",
              "  background-color: #a7c5fe;\n",
              "  color: #000000;\n",
              "}\n",
              "#T_4b8bd_row3_col10 {\n",
              "  background-color: #8fb1fe;\n",
              "  color: #000000;\n",
              "}\n",
              "#T_4b8bd_row3_col11 {\n",
              "  background-color: #adc9fd;\n",
              "  color: #000000;\n",
              "}\n",
              "#T_4b8bd_row3_col12 {\n",
              "  background-color: #bed2f6;\n",
              "  color: #000000;\n",
              "}\n",
              "#T_4b8bd_row3_col13 {\n",
              "  background-color: #e3d9d3;\n",
              "  color: #000000;\n",
              "}\n",
              "#T_4b8bd_row4_col0, #T_4b8bd_row12_col10 {\n",
              "  background-color: #efcebd;\n",
              "  color: #000000;\n",
              "}\n",
              "#T_4b8bd_row4_col2 {\n",
              "  background-color: #e16751;\n",
              "  color: #f1f1f1;\n",
              "}\n",
              "#T_4b8bd_row4_col3, #T_4b8bd_row5_col3, #T_4b8bd_row5_col8 {\n",
              "  background-color: #779af7;\n",
              "  color: #f1f1f1;\n",
              "}\n",
              "#T_4b8bd_row4_col5, #T_4b8bd_row13_col4 {\n",
              "  background-color: #799cf8;\n",
              "  color: #f1f1f1;\n",
              "}\n",
              "#T_4b8bd_row4_col6 {\n",
              "  background-color: #e46e56;\n",
              "  color: #f1f1f1;\n",
              "}\n",
              "#T_4b8bd_row4_col7, #T_4b8bd_row6_col1, #T_4b8bd_row7_col2, #T_4b8bd_row7_col4, #T_4b8bd_row7_col6, #T_4b8bd_row7_col8, #T_4b8bd_row7_col9, #T_4b8bd_row8_col11, #T_4b8bd_row9_col11, #T_4b8bd_row10_col3, #T_4b8bd_row11_col0, #T_4b8bd_row12_col5, #T_4b8bd_row12_col13, #T_4b8bd_row13_col0, #T_4b8bd_row13_col10, #T_4b8bd_row13_col12 {\n",
              "  background-color: #3b4cc0;\n",
              "  color: #f1f1f1;\n",
              "}\n",
              "#T_4b8bd_row4_col8 {\n",
              "  background-color: #f59d7e;\n",
              "  color: #000000;\n",
              "}\n",
              "#T_4b8bd_row4_col9 {\n",
              "  background-color: #f08b6e;\n",
              "  color: #f1f1f1;\n",
              "}\n",
              "#T_4b8bd_row4_col10 {\n",
              "  background-color: #d3dbe7;\n",
              "  color: #000000;\n",
              "}\n",
              "#T_4b8bd_row4_col11 {\n",
              "  background-color: #485fd1;\n",
              "  color: #f1f1f1;\n",
              "}\n",
              "#T_4b8bd_row4_col12, #T_4b8bd_row8_col2 {\n",
              "  background-color: #f39475;\n",
              "  color: #000000;\n",
              "}\n",
              "#T_4b8bd_row4_col13 {\n",
              "  background-color: #7396f5;\n",
              "  color: #f1f1f1;\n",
              "}\n",
              "#T_4b8bd_row5_col1 {\n",
              "  background-color: #ebd3c6;\n",
              "  color: #000000;\n",
              "}\n",
              "#T_4b8bd_row5_col4, #T_4b8bd_row13_col3 {\n",
              "  background-color: #92b4fe;\n",
              "  color: #000000;\n",
              "}\n",
              "#T_4b8bd_row5_col6 {\n",
              "  background-color: #9bbcff;\n",
              "  color: #000000;\n",
              "}\n",
              "#T_4b8bd_row5_col7 {\n",
              "  background-color: #ead5c9;\n",
              "  color: #000000;\n",
              "}\n",
              "#T_4b8bd_row5_col9, #T_4b8bd_row10_col5 {\n",
              "  background-color: #6c8ff1;\n",
              "  color: #f1f1f1;\n",
              "}\n",
              "#T_4b8bd_row5_col10, #T_4b8bd_row12_col1 {\n",
              "  background-color: #5977e3;\n",
              "  color: #f1f1f1;\n",
              "}\n",
              "#T_4b8bd_row5_col11 {\n",
              "  background-color: #bfd3f6;\n",
              "  color: #000000;\n",
              "}\n",
              "#T_4b8bd_row5_col12 {\n",
              "  background-color: #506bda;\n",
              "  color: #f1f1f1;\n",
              "}\n",
              "#T_4b8bd_row5_col13 {\n",
              "  background-color: #e9785d;\n",
              "  color: #f1f1f1;\n",
              "}\n",
              "#T_4b8bd_row6_col0 {\n",
              "  background-color: #e5d8d1;\n",
              "  color: #000000;\n",
              "}\n",
              "#T_4b8bd_row6_col2 {\n",
              "  background-color: #ef886b;\n",
              "  color: #f1f1f1;\n",
              "}\n",
              "#T_4b8bd_row6_col4 {\n",
              "  background-color: #e36c55;\n",
              "  color: #f1f1f1;\n",
              "}\n",
              "#T_4b8bd_row6_col5 {\n",
              "  background-color: #86a9fc;\n",
              "  color: #f1f1f1;\n",
              "}\n",
              "#T_4b8bd_row6_col7 {\n",
              "  background-color: #3e51c5;\n",
              "  color: #f1f1f1;\n",
              "}\n",
              "#T_4b8bd_row6_col8 {\n",
              "  background-color: #f5c1a9;\n",
              "  color: #000000;\n",
              "}\n",
              "#T_4b8bd_row6_col9 {\n",
              "  background-color: #f7b497;\n",
              "  color: #000000;\n",
              "}\n",
              "#T_4b8bd_row6_col10, #T_4b8bd_row7_col11 {\n",
              "  background-color: #dfdbd9;\n",
              "  color: #000000;\n",
              "}\n",
              "#T_4b8bd_row6_col11 {\n",
              "  background-color: #5f7fe8;\n",
              "  color: #f1f1f1;\n",
              "}\n",
              "#T_4b8bd_row6_col13 {\n",
              "  background-color: #7ea1fa;\n",
              "  color: #f1f1f1;\n",
              "}\n",
              "#T_4b8bd_row7_col0 {\n",
              "  background-color: #3c4ec2;\n",
              "  color: #f1f1f1;\n",
              "}\n",
              "#T_4b8bd_row7_col1 {\n",
              "  background-color: #f08a6c;\n",
              "  color: #f1f1f1;\n",
              "}\n",
              "#T_4b8bd_row7_col5 {\n",
              "  background-color: #dedcdb;\n",
              "  color: #000000;\n",
              "}\n",
              "#T_4b8bd_row7_col10 {\n",
              "  background-color: #7597f6;\n",
              "  color: #f1f1f1;\n",
              "}\n",
              "#T_4b8bd_row7_col13 {\n",
              "  background-color: #edd2c3;\n",
              "  color: #000000;\n",
              "}\n",
              "#T_4b8bd_row8_col4 {\n",
              "  background-color: #f18d6f;\n",
              "  color: #f1f1f1;\n",
              "}\n",
              "#T_4b8bd_row8_col5 {\n",
              "  background-color: #8db0fe;\n",
              "  color: #000000;\n",
              "}\n",
              "#T_4b8bd_row8_col6 {\n",
              "  background-color: #f7b093;\n",
              "  color: #000000;\n",
              "}\n",
              "#T_4b8bd_row8_col7, #T_4b8bd_row9_col13, #T_4b8bd_row12_col7 {\n",
              "  background-color: #6b8df0;\n",
              "  color: #f1f1f1;\n",
              "}\n",
              "#T_4b8bd_row8_col9 {\n",
              "  background-color: #c83836;\n",
              "  color: #f1f1f1;\n",
              "}\n",
              "#T_4b8bd_row8_col10 {\n",
              "  background-color: #f6bea4;\n",
              "  color: #000000;\n",
              "}\n",
              "#T_4b8bd_row8_col12 {\n",
              "  background-color: #f7aa8c;\n",
              "  color: #000000;\n",
              "}\n",
              "#T_4b8bd_row8_col13, #T_4b8bd_row11_col2 {\n",
              "  background-color: #7da0f9;\n",
              "  color: #f1f1f1;\n",
              "}\n",
              "#T_4b8bd_row9_col0, #T_4b8bd_row12_col9 {\n",
              "  background-color: #f7ac8e;\n",
              "  color: #000000;\n",
              "}\n",
              "#T_4b8bd_row9_col1 {\n",
              "  background-color: #6e90f2;\n",
              "  color: #f1f1f1;\n",
              "}\n",
              "#T_4b8bd_row9_col2 {\n",
              "  background-color: #e67259;\n",
              "  color: #f1f1f1;\n",
              "}\n",
              "#T_4b8bd_row9_col6 {\n",
              "  background-color: #f7a688;\n",
              "  color: #000000;\n",
              "}\n",
              "#T_4b8bd_row9_col7, #T_4b8bd_row10_col13, #T_4b8bd_row13_col2 {\n",
              "  background-color: #6384eb;\n",
              "  color: #f1f1f1;\n",
              "}\n",
              "#T_4b8bd_row9_col8 {\n",
              "  background-color: #ca3b37;\n",
              "  color: #f1f1f1;\n",
              "}\n",
              "#T_4b8bd_row9_col10, #T_4b8bd_row10_col8 {\n",
              "  background-color: #f6bfa6;\n",
              "  color: #000000;\n",
              "}\n",
              "#T_4b8bd_row9_col12 {\n",
              "  background-color: #f59f80;\n",
              "  color: #000000;\n",
              "}\n",
              "#T_4b8bd_row10_col0 {\n",
              "  background-color: #dadce0;\n",
              "  color: #000000;\n",
              "}\n",
              "#T_4b8bd_row10_col1 {\n",
              "  background-color: #5e7de7;\n",
              "  color: #f1f1f1;\n",
              "}\n",
              "#T_4b8bd_row10_col2, #T_4b8bd_row10_col12 {\n",
              "  background-color: #f5c0a7;\n",
              "  color: #000000;\n",
              "}\n",
              "#T_4b8bd_row10_col4 {\n",
              "  background-color: #e7d7ce;\n",
              "  color: #000000;\n",
              "}\n",
              "#T_4b8bd_row10_col6, #T_4b8bd_row13_col7 {\n",
              "  background-color: #eed0c0;\n",
              "  color: #000000;\n",
              "}\n",
              "#T_4b8bd_row10_col7 {\n",
              "  background-color: #9fbfff;\n",
              "  color: #000000;\n",
              "}\n",
              "#T_4b8bd_row10_col9 {\n",
              "  background-color: #f6bda2;\n",
              "  color: #000000;\n",
              "}\n",
              "#T_4b8bd_row11_col1 {\n",
              "  background-color: #d6dce4;\n",
              "  color: #000000;\n",
              "}\n",
              "#T_4b8bd_row11_col3 {\n",
              "  background-color: #6a8bef;\n",
              "  color: #f1f1f1;\n",
              "}\n",
              "#T_4b8bd_row11_col5 {\n",
              "  background-color: #d2dbe8;\n",
              "  color: #000000;\n",
              "}\n",
              "#T_4b8bd_row11_col6 {\n",
              "  background-color: #94b6ff;\n",
              "  color: #000000;\n",
              "}\n",
              "#T_4b8bd_row11_col7 {\n",
              "  background-color: #f2cbb7;\n",
              "  color: #000000;\n",
              "}\n",
              "#T_4b8bd_row11_col12, #T_4b8bd_row13_col6 {\n",
              "  background-color: #80a3fa;\n",
              "  color: #f1f1f1;\n",
              "}\n",
              "#T_4b8bd_row11_col13 {\n",
              "  background-color: #f3c7b1;\n",
              "  color: #000000;\n",
              "}\n",
              "#T_4b8bd_row12_col0 {\n",
              "  background-color: #f2c9b4;\n",
              "  color: #000000;\n",
              "}\n",
              "#T_4b8bd_row12_col2, #T_4b8bd_row12_col4 {\n",
              "  background-color: #f29274;\n",
              "  color: #f1f1f1;\n",
              "}\n",
              "#T_4b8bd_row12_col8 {\n",
              "  background-color: #f7ba9f;\n",
              "  color: #000000;\n",
              "}\n",
              "#T_4b8bd_row12_col11 {\n",
              "  background-color: #4a63d3;\n",
              "  color: #f1f1f1;\n",
              "}\n",
              "#T_4b8bd_row13_col11 {\n",
              "  background-color: #e6d7cf;\n",
              "  color: #000000;\n",
              "}\n",
              "</style>\n",
              "<table id=\"T_4b8bd_\" class=\"dataframe\">\n",
              "  <thead>\n",
              "    <tr>\n",
              "      <th class=\"blank level0\" >&nbsp;</th>\n",
              "      <th class=\"col_heading level0 col0\" >CRIM</th>\n",
              "      <th class=\"col_heading level0 col1\" >ZN</th>\n",
              "      <th class=\"col_heading level0 col2\" >INDUS</th>\n",
              "      <th class=\"col_heading level0 col3\" >CHAS</th>\n",
              "      <th class=\"col_heading level0 col4\" >NOX</th>\n",
              "      <th class=\"col_heading level0 col5\" >RM</th>\n",
              "      <th class=\"col_heading level0 col6\" >AGE</th>\n",
              "      <th class=\"col_heading level0 col7\" >DIS</th>\n",
              "      <th class=\"col_heading level0 col8\" >RAD</th>\n",
              "      <th class=\"col_heading level0 col9\" >TAX</th>\n",
              "      <th class=\"col_heading level0 col10\" >PTRATIO</th>\n",
              "      <th class=\"col_heading level0 col11\" >B</th>\n",
              "      <th class=\"col_heading level0 col12\" >LSTAT</th>\n",
              "      <th class=\"col_heading level0 col13\" >MEDV</th>\n",
              "    </tr>\n",
              "  </thead>\n",
              "  <tbody>\n",
              "    <tr>\n",
              "      <th id=\"T_4b8bd_level0_row0\" class=\"row_heading level0 row0\" >CRIM</th>\n",
              "      <td id=\"T_4b8bd_row0_col0\" class=\"data row0 col0\" >1.000000</td>\n",
              "      <td id=\"T_4b8bd_row0_col1\" class=\"data row0 col1\" >-0.200469</td>\n",
              "      <td id=\"T_4b8bd_row0_col2\" class=\"data row0 col2\" >0.406583</td>\n",
              "      <td id=\"T_4b8bd_row0_col3\" class=\"data row0 col3\" >-0.055892</td>\n",
              "      <td id=\"T_4b8bd_row0_col4\" class=\"data row0 col4\" >0.420972</td>\n",
              "      <td id=\"T_4b8bd_row0_col5\" class=\"data row0 col5\" >-0.219247</td>\n",
              "      <td id=\"T_4b8bd_row0_col6\" class=\"data row0 col6\" >0.352734</td>\n",
              "      <td id=\"T_4b8bd_row0_col7\" class=\"data row0 col7\" >-0.379670</td>\n",
              "      <td id=\"T_4b8bd_row0_col8\" class=\"data row0 col8\" >0.625505</td>\n",
              "      <td id=\"T_4b8bd_row0_col9\" class=\"data row0 col9\" >0.582764</td>\n",
              "      <td id=\"T_4b8bd_row0_col10\" class=\"data row0 col10\" >0.289946</td>\n",
              "      <td id=\"T_4b8bd_row0_col11\" class=\"data row0 col11\" >-0.385064</td>\n",
              "      <td id=\"T_4b8bd_row0_col12\" class=\"data row0 col12\" >0.455621</td>\n",
              "      <td id=\"T_4b8bd_row0_col13\" class=\"data row0 col13\" >-0.388305</td>\n",
              "    </tr>\n",
              "    <tr>\n",
              "      <th id=\"T_4b8bd_level0_row1\" class=\"row_heading level0 row1\" >ZN</th>\n",
              "      <td id=\"T_4b8bd_row1_col0\" class=\"data row1 col0\" >-0.200469</td>\n",
              "      <td id=\"T_4b8bd_row1_col1\" class=\"data row1 col1\" >1.000000</td>\n",
              "      <td id=\"T_4b8bd_row1_col2\" class=\"data row1 col2\" >-0.533828</td>\n",
              "      <td id=\"T_4b8bd_row1_col3\" class=\"data row1 col3\" >-0.042697</td>\n",
              "      <td id=\"T_4b8bd_row1_col4\" class=\"data row1 col4\" >-0.516604</td>\n",
              "      <td id=\"T_4b8bd_row1_col5\" class=\"data row1 col5\" >0.311991</td>\n",
              "      <td id=\"T_4b8bd_row1_col6\" class=\"data row1 col6\" >-0.569537</td>\n",
              "      <td id=\"T_4b8bd_row1_col7\" class=\"data row1 col7\" >0.664408</td>\n",
              "      <td id=\"T_4b8bd_row1_col8\" class=\"data row1 col8\" >-0.311948</td>\n",
              "      <td id=\"T_4b8bd_row1_col9\" class=\"data row1 col9\" >-0.314563</td>\n",
              "      <td id=\"T_4b8bd_row1_col10\" class=\"data row1 col10\" >-0.391679</td>\n",
              "      <td id=\"T_4b8bd_row1_col11\" class=\"data row1 col11\" >0.175520</td>\n",
              "      <td id=\"T_4b8bd_row1_col12\" class=\"data row1 col12\" >-0.412995</td>\n",
              "      <td id=\"T_4b8bd_row1_col13\" class=\"data row1 col13\" >0.360445</td>\n",
              "    </tr>\n",
              "    <tr>\n",
              "      <th id=\"T_4b8bd_level0_row2\" class=\"row_heading level0 row2\" >INDUS</th>\n",
              "      <td id=\"T_4b8bd_row2_col0\" class=\"data row2 col0\" >0.406583</td>\n",
              "      <td id=\"T_4b8bd_row2_col1\" class=\"data row2 col1\" >-0.533828</td>\n",
              "      <td id=\"T_4b8bd_row2_col2\" class=\"data row2 col2\" >1.000000</td>\n",
              "      <td id=\"T_4b8bd_row2_col3\" class=\"data row2 col3\" >0.062938</td>\n",
              "      <td id=\"T_4b8bd_row2_col4\" class=\"data row2 col4\" >0.763651</td>\n",
              "      <td id=\"T_4b8bd_row2_col5\" class=\"data row2 col5\" >-0.391676</td>\n",
              "      <td id=\"T_4b8bd_row2_col6\" class=\"data row2 col6\" >0.644779</td>\n",
              "      <td id=\"T_4b8bd_row2_col7\" class=\"data row2 col7\" >-0.708027</td>\n",
              "      <td id=\"T_4b8bd_row2_col8\" class=\"data row2 col8\" >0.595129</td>\n",
              "      <td id=\"T_4b8bd_row2_col9\" class=\"data row2 col9\" >0.720760</td>\n",
              "      <td id=\"T_4b8bd_row2_col10\" class=\"data row2 col10\" >0.383248</td>\n",
              "      <td id=\"T_4b8bd_row2_col11\" class=\"data row2 col11\" >-0.356977</td>\n",
              "      <td id=\"T_4b8bd_row2_col12\" class=\"data row2 col12\" >0.603800</td>\n",
              "      <td id=\"T_4b8bd_row2_col13\" class=\"data row2 col13\" >-0.483725</td>\n",
              "    </tr>\n",
              "    <tr>\n",
              "      <th id=\"T_4b8bd_level0_row3\" class=\"row_heading level0 row3\" >CHAS</th>\n",
              "      <td id=\"T_4b8bd_row3_col0\" class=\"data row3 col0\" >-0.055892</td>\n",
              "      <td id=\"T_4b8bd_row3_col1\" class=\"data row3 col1\" >-0.042697</td>\n",
              "      <td id=\"T_4b8bd_row3_col2\" class=\"data row3 col2\" >0.062938</td>\n",
              "      <td id=\"T_4b8bd_row3_col3\" class=\"data row3 col3\" >1.000000</td>\n",
              "      <td id=\"T_4b8bd_row3_col4\" class=\"data row3 col4\" >0.091203</td>\n",
              "      <td id=\"T_4b8bd_row3_col5\" class=\"data row3 col5\" >0.091251</td>\n",
              "      <td id=\"T_4b8bd_row3_col6\" class=\"data row3 col6\" >0.086518</td>\n",
              "      <td id=\"T_4b8bd_row3_col7\" class=\"data row3 col7\" >-0.099176</td>\n",
              "      <td id=\"T_4b8bd_row3_col8\" class=\"data row3 col8\" >-0.007368</td>\n",
              "      <td id=\"T_4b8bd_row3_col9\" class=\"data row3 col9\" >-0.035587</td>\n",
              "      <td id=\"T_4b8bd_row3_col10\" class=\"data row3 col10\" >-0.121515</td>\n",
              "      <td id=\"T_4b8bd_row3_col11\" class=\"data row3 col11\" >0.048788</td>\n",
              "      <td id=\"T_4b8bd_row3_col12\" class=\"data row3 col12\" >-0.053929</td>\n",
              "      <td id=\"T_4b8bd_row3_col13\" class=\"data row3 col13\" >0.175260</td>\n",
              "    </tr>\n",
              "    <tr>\n",
              "      <th id=\"T_4b8bd_level0_row4\" class=\"row_heading level0 row4\" >NOX</th>\n",
              "      <td id=\"T_4b8bd_row4_col0\" class=\"data row4 col0\" >0.420972</td>\n",
              "      <td id=\"T_4b8bd_row4_col1\" class=\"data row4 col1\" >-0.516604</td>\n",
              "      <td id=\"T_4b8bd_row4_col2\" class=\"data row4 col2\" >0.763651</td>\n",
              "      <td id=\"T_4b8bd_row4_col3\" class=\"data row4 col3\" >0.091203</td>\n",
              "      <td id=\"T_4b8bd_row4_col4\" class=\"data row4 col4\" >1.000000</td>\n",
              "      <td id=\"T_4b8bd_row4_col5\" class=\"data row4 col5\" >-0.302188</td>\n",
              "      <td id=\"T_4b8bd_row4_col6\" class=\"data row4 col6\" >0.731470</td>\n",
              "      <td id=\"T_4b8bd_row4_col7\" class=\"data row4 col7\" >-0.769230</td>\n",
              "      <td id=\"T_4b8bd_row4_col8\" class=\"data row4 col8\" >0.611441</td>\n",
              "      <td id=\"T_4b8bd_row4_col9\" class=\"data row4 col9\" >0.668023</td>\n",
              "      <td id=\"T_4b8bd_row4_col10\" class=\"data row4 col10\" >0.188933</td>\n",
              "      <td id=\"T_4b8bd_row4_col11\" class=\"data row4 col11\" >-0.380051</td>\n",
              "      <td id=\"T_4b8bd_row4_col12\" class=\"data row4 col12\" >0.590879</td>\n",
              "      <td id=\"T_4b8bd_row4_col13\" class=\"data row4 col13\" >-0.427321</td>\n",
              "    </tr>\n",
              "    <tr>\n",
              "      <th id=\"T_4b8bd_level0_row5\" class=\"row_heading level0 row5\" >RM</th>\n",
              "      <td id=\"T_4b8bd_row5_col0\" class=\"data row5 col0\" >-0.219247</td>\n",
              "      <td id=\"T_4b8bd_row5_col1\" class=\"data row5 col1\" >0.311991</td>\n",
              "      <td id=\"T_4b8bd_row5_col2\" class=\"data row5 col2\" >-0.391676</td>\n",
              "      <td id=\"T_4b8bd_row5_col3\" class=\"data row5 col3\" >0.091251</td>\n",
              "      <td id=\"T_4b8bd_row5_col4\" class=\"data row5 col4\" >-0.302188</td>\n",
              "      <td id=\"T_4b8bd_row5_col5\" class=\"data row5 col5\" >1.000000</td>\n",
              "      <td id=\"T_4b8bd_row5_col6\" class=\"data row5 col6\" >-0.240265</td>\n",
              "      <td id=\"T_4b8bd_row5_col7\" class=\"data row5 col7\" >0.205246</td>\n",
              "      <td id=\"T_4b8bd_row5_col8\" class=\"data row5 col8\" >-0.209847</td>\n",
              "      <td id=\"T_4b8bd_row5_col9\" class=\"data row5 col9\" >-0.292048</td>\n",
              "      <td id=\"T_4b8bd_row5_col10\" class=\"data row5 col10\" >-0.355501</td>\n",
              "      <td id=\"T_4b8bd_row5_col11\" class=\"data row5 col11\" >0.128069</td>\n",
              "      <td id=\"T_4b8bd_row5_col12\" class=\"data row5 col12\" >-0.613808</td>\n",
              "      <td id=\"T_4b8bd_row5_col13\" class=\"data row5 col13\" >0.695360</td>\n",
              "    </tr>\n",
              "    <tr>\n",
              "      <th id=\"T_4b8bd_level0_row6\" class=\"row_heading level0 row6\" >AGE</th>\n",
              "      <td id=\"T_4b8bd_row6_col0\" class=\"data row6 col0\" >0.352734</td>\n",
              "      <td id=\"T_4b8bd_row6_col1\" class=\"data row6 col1\" >-0.569537</td>\n",
              "      <td id=\"T_4b8bd_row6_col2\" class=\"data row6 col2\" >0.644779</td>\n",
              "      <td id=\"T_4b8bd_row6_col3\" class=\"data row6 col3\" >0.086518</td>\n",
              "      <td id=\"T_4b8bd_row6_col4\" class=\"data row6 col4\" >0.731470</td>\n",
              "      <td id=\"T_4b8bd_row6_col5\" class=\"data row6 col5\" >-0.240265</td>\n",
              "      <td id=\"T_4b8bd_row6_col6\" class=\"data row6 col6\" >1.000000</td>\n",
              "      <td id=\"T_4b8bd_row6_col7\" class=\"data row6 col7\" >-0.747881</td>\n",
              "      <td id=\"T_4b8bd_row6_col8\" class=\"data row6 col8\" >0.456022</td>\n",
              "      <td id=\"T_4b8bd_row6_col9\" class=\"data row6 col9\" >0.506456</td>\n",
              "      <td id=\"T_4b8bd_row6_col10\" class=\"data row6 col10\" >0.261515</td>\n",
              "      <td id=\"T_4b8bd_row6_col11\" class=\"data row6 col11\" >-0.273534</td>\n",
              "      <td id=\"T_4b8bd_row6_col12\" class=\"data row6 col12\" >0.602339</td>\n",
              "      <td id=\"T_4b8bd_row6_col13\" class=\"data row6 col13\" >-0.376955</td>\n",
              "    </tr>\n",
              "    <tr>\n",
              "      <th id=\"T_4b8bd_level0_row7\" class=\"row_heading level0 row7\" >DIS</th>\n",
              "      <td id=\"T_4b8bd_row7_col0\" class=\"data row7 col0\" >-0.379670</td>\n",
              "      <td id=\"T_4b8bd_row7_col1\" class=\"data row7 col1\" >0.664408</td>\n",
              "      <td id=\"T_4b8bd_row7_col2\" class=\"data row7 col2\" >-0.708027</td>\n",
              "      <td id=\"T_4b8bd_row7_col3\" class=\"data row7 col3\" >-0.099176</td>\n",
              "      <td id=\"T_4b8bd_row7_col4\" class=\"data row7 col4\" >-0.769230</td>\n",
              "      <td id=\"T_4b8bd_row7_col5\" class=\"data row7 col5\" >0.205246</td>\n",
              "      <td id=\"T_4b8bd_row7_col6\" class=\"data row7 col6\" >-0.747881</td>\n",
              "      <td id=\"T_4b8bd_row7_col7\" class=\"data row7 col7\" >1.000000</td>\n",
              "      <td id=\"T_4b8bd_row7_col8\" class=\"data row7 col8\" >-0.494588</td>\n",
              "      <td id=\"T_4b8bd_row7_col9\" class=\"data row7 col9\" >-0.534432</td>\n",
              "      <td id=\"T_4b8bd_row7_col10\" class=\"data row7 col10\" >-0.232471</td>\n",
              "      <td id=\"T_4b8bd_row7_col11\" class=\"data row7 col11\" >0.291512</td>\n",
              "      <td id=\"T_4b8bd_row7_col12\" class=\"data row7 col12\" >-0.496996</td>\n",
              "      <td id=\"T_4b8bd_row7_col13\" class=\"data row7 col13\" >0.249929</td>\n",
              "    </tr>\n",
              "    <tr>\n",
              "      <th id=\"T_4b8bd_level0_row8\" class=\"row_heading level0 row8\" >RAD</th>\n",
              "      <td id=\"T_4b8bd_row8_col0\" class=\"data row8 col0\" >0.625505</td>\n",
              "      <td id=\"T_4b8bd_row8_col1\" class=\"data row8 col1\" >-0.311948</td>\n",
              "      <td id=\"T_4b8bd_row8_col2\" class=\"data row8 col2\" >0.595129</td>\n",
              "      <td id=\"T_4b8bd_row8_col3\" class=\"data row8 col3\" >-0.007368</td>\n",
              "      <td id=\"T_4b8bd_row8_col4\" class=\"data row8 col4\" >0.611441</td>\n",
              "      <td id=\"T_4b8bd_row8_col5\" class=\"data row8 col5\" >-0.209847</td>\n",
              "      <td id=\"T_4b8bd_row8_col6\" class=\"data row8 col6\" >0.456022</td>\n",
              "      <td id=\"T_4b8bd_row8_col7\" class=\"data row8 col7\" >-0.494588</td>\n",
              "      <td id=\"T_4b8bd_row8_col8\" class=\"data row8 col8\" >1.000000</td>\n",
              "      <td id=\"T_4b8bd_row8_col9\" class=\"data row8 col9\" >0.910228</td>\n",
              "      <td id=\"T_4b8bd_row8_col10\" class=\"data row8 col10\" >0.464741</td>\n",
              "      <td id=\"T_4b8bd_row8_col11\" class=\"data row8 col11\" >-0.444413</td>\n",
              "      <td id=\"T_4b8bd_row8_col12\" class=\"data row8 col12\" >0.488676</td>\n",
              "      <td id=\"T_4b8bd_row8_col13\" class=\"data row8 col13\" >-0.381626</td>\n",
              "    </tr>\n",
              "    <tr>\n",
              "      <th id=\"T_4b8bd_level0_row9\" class=\"row_heading level0 row9\" >TAX</th>\n",
              "      <td id=\"T_4b8bd_row9_col0\" class=\"data row9 col0\" >0.582764</td>\n",
              "      <td id=\"T_4b8bd_row9_col1\" class=\"data row9 col1\" >-0.314563</td>\n",
              "      <td id=\"T_4b8bd_row9_col2\" class=\"data row9 col2\" >0.720760</td>\n",
              "      <td id=\"T_4b8bd_row9_col3\" class=\"data row9 col3\" >-0.035587</td>\n",
              "      <td id=\"T_4b8bd_row9_col4\" class=\"data row9 col4\" >0.668023</td>\n",
              "      <td id=\"T_4b8bd_row9_col5\" class=\"data row9 col5\" >-0.292048</td>\n",
              "      <td id=\"T_4b8bd_row9_col6\" class=\"data row9 col6\" >0.506456</td>\n",
              "      <td id=\"T_4b8bd_row9_col7\" class=\"data row9 col7\" >-0.534432</td>\n",
              "      <td id=\"T_4b8bd_row9_col8\" class=\"data row9 col8\" >0.910228</td>\n",
              "      <td id=\"T_4b8bd_row9_col9\" class=\"data row9 col9\" >1.000000</td>\n",
              "      <td id=\"T_4b8bd_row9_col10\" class=\"data row9 col10\" >0.460853</td>\n",
              "      <td id=\"T_4b8bd_row9_col11\" class=\"data row9 col11\" >-0.441808</td>\n",
              "      <td id=\"T_4b8bd_row9_col12\" class=\"data row9 col12\" >0.543993</td>\n",
              "      <td id=\"T_4b8bd_row9_col13\" class=\"data row9 col13\" >-0.468536</td>\n",
              "    </tr>\n",
              "    <tr>\n",
              "      <th id=\"T_4b8bd_level0_row10\" class=\"row_heading level0 row10\" >PTRATIO</th>\n",
              "      <td id=\"T_4b8bd_row10_col0\" class=\"data row10 col0\" >0.289946</td>\n",
              "      <td id=\"T_4b8bd_row10_col1\" class=\"data row10 col1\" >-0.391679</td>\n",
              "      <td id=\"T_4b8bd_row10_col2\" class=\"data row10 col2\" >0.383248</td>\n",
              "      <td id=\"T_4b8bd_row10_col3\" class=\"data row10 col3\" >-0.121515</td>\n",
              "      <td id=\"T_4b8bd_row10_col4\" class=\"data row10 col4\" >0.188933</td>\n",
              "      <td id=\"T_4b8bd_row10_col5\" class=\"data row10 col5\" >-0.355501</td>\n",
              "      <td id=\"T_4b8bd_row10_col6\" class=\"data row10 col6\" >0.261515</td>\n",
              "      <td id=\"T_4b8bd_row10_col7\" class=\"data row10 col7\" >-0.232471</td>\n",
              "      <td id=\"T_4b8bd_row10_col8\" class=\"data row10 col8\" >0.464741</td>\n",
              "      <td id=\"T_4b8bd_row10_col9\" class=\"data row10 col9\" >0.460853</td>\n",
              "      <td id=\"T_4b8bd_row10_col10\" class=\"data row10 col10\" >1.000000</td>\n",
              "      <td id=\"T_4b8bd_row10_col11\" class=\"data row10 col11\" >-0.177383</td>\n",
              "      <td id=\"T_4b8bd_row10_col12\" class=\"data row10 col12\" >0.374044</td>\n",
              "      <td id=\"T_4b8bd_row10_col13\" class=\"data row10 col13\" >-0.507787</td>\n",
              "    </tr>\n",
              "    <tr>\n",
              "      <th id=\"T_4b8bd_level0_row11\" class=\"row_heading level0 row11\" >B</th>\n",
              "      <td id=\"T_4b8bd_row11_col0\" class=\"data row11 col0\" >-0.385064</td>\n",
              "      <td id=\"T_4b8bd_row11_col1\" class=\"data row11 col1\" >0.175520</td>\n",
              "      <td id=\"T_4b8bd_row11_col2\" class=\"data row11 col2\" >-0.356977</td>\n",
              "      <td id=\"T_4b8bd_row11_col3\" class=\"data row11 col3\" >0.048788</td>\n",
              "      <td id=\"T_4b8bd_row11_col4\" class=\"data row11 col4\" >-0.380051</td>\n",
              "      <td id=\"T_4b8bd_row11_col5\" class=\"data row11 col5\" >0.128069</td>\n",
              "      <td id=\"T_4b8bd_row11_col6\" class=\"data row11 col6\" >-0.273534</td>\n",
              "      <td id=\"T_4b8bd_row11_col7\" class=\"data row11 col7\" >0.291512</td>\n",
              "      <td id=\"T_4b8bd_row11_col8\" class=\"data row11 col8\" >-0.444413</td>\n",
              "      <td id=\"T_4b8bd_row11_col9\" class=\"data row11 col9\" >-0.441808</td>\n",
              "      <td id=\"T_4b8bd_row11_col10\" class=\"data row11 col10\" >-0.177383</td>\n",
              "      <td id=\"T_4b8bd_row11_col11\" class=\"data row11 col11\" >1.000000</td>\n",
              "      <td id=\"T_4b8bd_row11_col12\" class=\"data row11 col12\" >-0.366087</td>\n",
              "      <td id=\"T_4b8bd_row11_col13\" class=\"data row11 col13\" >0.333461</td>\n",
              "    </tr>\n",
              "    <tr>\n",
              "      <th id=\"T_4b8bd_level0_row12\" class=\"row_heading level0 row12\" >LSTAT</th>\n",
              "      <td id=\"T_4b8bd_row12_col0\" class=\"data row12 col0\" >0.455621</td>\n",
              "      <td id=\"T_4b8bd_row12_col1\" class=\"data row12 col1\" >-0.412995</td>\n",
              "      <td id=\"T_4b8bd_row12_col2\" class=\"data row12 col2\" >0.603800</td>\n",
              "      <td id=\"T_4b8bd_row12_col3\" class=\"data row12 col3\" >-0.053929</td>\n",
              "      <td id=\"T_4b8bd_row12_col4\" class=\"data row12 col4\" >0.590879</td>\n",
              "      <td id=\"T_4b8bd_row12_col5\" class=\"data row12 col5\" >-0.613808</td>\n",
              "      <td id=\"T_4b8bd_row12_col6\" class=\"data row12 col6\" >0.602339</td>\n",
              "      <td id=\"T_4b8bd_row12_col7\" class=\"data row12 col7\" >-0.496996</td>\n",
              "      <td id=\"T_4b8bd_row12_col8\" class=\"data row12 col8\" >0.488676</td>\n",
              "      <td id=\"T_4b8bd_row12_col9\" class=\"data row12 col9\" >0.543993</td>\n",
              "      <td id=\"T_4b8bd_row12_col10\" class=\"data row12 col10\" >0.374044</td>\n",
              "      <td id=\"T_4b8bd_row12_col11\" class=\"data row12 col11\" >-0.366087</td>\n",
              "      <td id=\"T_4b8bd_row12_col12\" class=\"data row12 col12\" >1.000000</td>\n",
              "      <td id=\"T_4b8bd_row12_col13\" class=\"data row12 col13\" >-0.737663</td>\n",
              "    </tr>\n",
              "    <tr>\n",
              "      <th id=\"T_4b8bd_level0_row13\" class=\"row_heading level0 row13\" >MEDV</th>\n",
              "      <td id=\"T_4b8bd_row13_col0\" class=\"data row13 col0\" >-0.388305</td>\n",
              "      <td id=\"T_4b8bd_row13_col1\" class=\"data row13 col1\" >0.360445</td>\n",
              "      <td id=\"T_4b8bd_row13_col2\" class=\"data row13 col2\" >-0.483725</td>\n",
              "      <td id=\"T_4b8bd_row13_col3\" class=\"data row13 col3\" >0.175260</td>\n",
              "      <td id=\"T_4b8bd_row13_col4\" class=\"data row13 col4\" >-0.427321</td>\n",
              "      <td id=\"T_4b8bd_row13_col5\" class=\"data row13 col5\" >0.695360</td>\n",
              "      <td id=\"T_4b8bd_row13_col6\" class=\"data row13 col6\" >-0.376955</td>\n",
              "      <td id=\"T_4b8bd_row13_col7\" class=\"data row13 col7\" >0.249929</td>\n",
              "      <td id=\"T_4b8bd_row13_col8\" class=\"data row13 col8\" >-0.381626</td>\n",
              "      <td id=\"T_4b8bd_row13_col9\" class=\"data row13 col9\" >-0.468536</td>\n",
              "      <td id=\"T_4b8bd_row13_col10\" class=\"data row13 col10\" >-0.507787</td>\n",
              "      <td id=\"T_4b8bd_row13_col11\" class=\"data row13 col11\" >0.333461</td>\n",
              "      <td id=\"T_4b8bd_row13_col12\" class=\"data row13 col12\" >-0.737663</td>\n",
              "      <td id=\"T_4b8bd_row13_col13\" class=\"data row13 col13\" >1.000000</td>\n",
              "    </tr>\n",
              "  </tbody>\n",
              "</table>\n"
            ]
          },
          "metadata": {},
          "execution_count": 25
        }
      ],
      "source": [
        "# checking corralated variables\n",
        "boston.corr().style.background_gradient(cmap='coolwarm')"
      ]
    },
    {
      "cell_type": "code",
      "execution_count": 26,
      "metadata": {
        "id": "6GJ7zYPLaTcg"
      },
      "outputs": [],
      "source": [
        "# X.drop(columns=['TAX'],axis=1, inplace = True)"
      ]
    },
    {
      "cell_type": "code",
      "execution_count": 27,
      "metadata": {
        "id": "T4QukbzdaTcg",
        "outputId": "2de10a89-5f40-4f45-e040-1ca1472bbda4",
        "colab": {
          "base_uri": "https://localhost:8080/"
        }
      },
      "outputs": [
        {
          "output_type": "execute_result",
          "data": {
            "text/plain": [
              "13"
            ]
          },
          "metadata": {},
          "execution_count": 27
        }
      ],
      "source": [
        "len(X[0])"
      ]
    },
    {
      "cell_type": "code",
      "execution_count": 28,
      "metadata": {
        "id": "fk5DwMyCaTch"
      },
      "outputs": [],
      "source": [
        "# breaking data for training and testing part\n",
        "xtrain,xtest,ytrain,ytest = train_test_split(X,Y,random_state = 0,test_size=0.2)"
      ]
    },
    {
      "cell_type": "code",
      "execution_count": 29,
      "metadata": {
        "id": "szPfnyIeaTch",
        "outputId": "8da9b3e9-a0f1-4190-83cc-f2dc7b57f592",
        "colab": {
          "base_uri": "https://localhost:8080/"
        }
      },
      "outputs": [
        {
          "output_type": "execute_result",
          "data": {
            "text/plain": [
              "array([[3.5809e-01, 0.0000e+00, 6.2000e+00, ..., 1.7400e+01, 3.9170e+02,\n",
              "        9.7100e+00],\n",
              "       [1.5876e-01, 0.0000e+00, 1.0810e+01, ..., 1.9200e+01, 3.7694e+02,\n",
              "        9.8800e+00],\n",
              "       [1.1329e-01, 3.0000e+01, 4.9300e+00, ..., 1.6600e+01, 3.9125e+02,\n",
              "        1.1380e+01],\n",
              "       ...,\n",
              "       [1.5098e-01, 0.0000e+00, 1.0010e+01, ..., 1.7800e+01, 3.9451e+02,\n",
              "        1.0300e+01],\n",
              "       [2.2927e-01, 0.0000e+00, 6.9100e+00, ..., 1.7900e+01, 3.9274e+02,\n",
              "        1.8800e+01],\n",
              "       [1.3914e-01, 0.0000e+00, 4.0500e+00, ..., 1.6600e+01, 3.9690e+02,\n",
              "        1.4690e+01]])"
            ]
          },
          "metadata": {},
          "execution_count": 29
        }
      ],
      "source": [
        "xtrain"
      ]
    },
    {
      "cell_type": "code",
      "execution_count": 30,
      "metadata": {
        "id": "d851ASQxaTci",
        "outputId": "9449d2e4-c72f-4681-cd94-578d5c49077f",
        "colab": {
          "base_uri": "https://localhost:8080/"
        }
      },
      "outputs": [
        {
          "output_type": "execute_result",
          "data": {
            "text/plain": [
              "array([[6.7240e-02, 0.0000e+00, 3.2400e+00, ..., 1.6900e+01, 3.7521e+02,\n",
              "        7.3400e+00],\n",
              "       [9.2323e+00, 0.0000e+00, 1.8100e+01, ..., 2.0200e+01, 3.6615e+02,\n",
              "        9.5300e+00],\n",
              "       [1.1425e-01, 0.0000e+00, 1.3890e+01, ..., 1.6400e+01, 3.9374e+02,\n",
              "        1.0500e+01],\n",
              "       ...,\n",
              "       [1.4932e-01, 2.5000e+01, 5.1300e+00, ..., 1.9700e+01, 3.9511e+02,\n",
              "        1.3150e+01],\n",
              "       [1.4052e-01, 0.0000e+00, 1.0590e+01, ..., 1.8600e+01, 3.8581e+02,\n",
              "        9.3800e+00],\n",
              "       [1.2802e-01, 0.0000e+00, 8.5600e+00, ..., 2.0900e+01, 3.9524e+02,\n",
              "        1.2270e+01]])"
            ]
          },
          "metadata": {},
          "execution_count": 30
        }
      ],
      "source": [
        "xtest"
      ]
    },
    {
      "cell_type": "code",
      "execution_count": 31,
      "metadata": {
        "id": "5VA6RAJUaTci",
        "outputId": "78b71a33-ffb2-4fc7-caa4-e56cf01b5b2d",
        "colab": {
          "base_uri": "https://localhost:8080/"
        }
      },
      "outputs": [
        {
          "output_type": "execute_result",
          "data": {
            "text/plain": [
              "array([26.7, 21.7, 22. , 22.9, 10.4, 21.9, 20.6, 26.4, 41.3, 17.2, 27.1,\n",
              "       20.4, 16.5, 24.4,  8.4, 23. ,  9.7, 50. , 30.5, 12.3, 19.4, 21.2,\n",
              "       20.3, 18.8, 33.4, 18.5, 19.6, 33.2, 13.1,  7.5, 13.6, 17.4,  8.4,\n",
              "       35.4, 24. , 13.4, 26.2,  7.2, 13.1, 24.5, 37.2, 25. , 24.1, 16.6,\n",
              "       32.9, 36.2, 11. ,  7.2, 22.8, 28.7, 14.4, 24.4, 18.1, 22.5, 20.5,\n",
              "       15.2, 17.4, 13.6,  8.7, 18.2, 35.4, 31.7, 33. , 22.2, 20.4, 23.9,\n",
              "       25. , 12.7, 29.1, 12. , 17.7, 27. , 20.6, 10.2, 17.5, 19.7, 29.8,\n",
              "       20.5, 14.9, 10.9, 19.5, 22.7, 19.5, 24.6, 25. , 24.5, 50. , 14.3,\n",
              "       11.8, 31. , 28.7, 16.2, 43.5, 25. , 22. , 19.9, 22.1, 46. , 22.9,\n",
              "       20.2, 43.1, 34.6, 13.8, 24.3, 21.5, 24.4, 21.2, 23.8, 26.6, 25.1,\n",
              "        9.6, 19.4, 19.4,  9.5, 14. , 26.5, 13.8, 34.7, 16.3, 21.7, 17.5,\n",
              "       15.6, 20.9, 21.7, 12.7, 18.5, 23.7, 19.3, 12.7, 21.6, 23.2, 29.6,\n",
              "       21.2, 23.8, 17.1, 22. , 36.5, 18.8, 21.9, 23.1, 20.2, 17.4, 37. ,\n",
              "       24.1, 36.2, 15.7, 32.2, 13.5, 17.9, 13.3, 11.7, 41.7, 18.4, 13.1,\n",
              "       25. , 21.2, 16. , 34.9, 25.2, 24.8, 21.5, 23.4, 18.9, 10.8, 21. ,\n",
              "       27.5, 17.5, 13.5, 28.7, 14.8, 19.1, 28.6, 13.1, 19. , 11.3, 13.3,\n",
              "       22.4, 20.1, 18.2, 22.9, 20.6, 25. , 12.8, 34.9, 23.7, 50. , 29. ,\n",
              "       30.1, 22. , 15.6, 23.3, 30.1, 14.3, 22.8, 50. , 20.8,  6.3, 34.9,\n",
              "       32.4, 19.9, 20.3, 17.8, 23.1, 20.4, 23.2,  7. , 16.8, 46.7, 50. ,\n",
              "       22.9, 23.9, 21.4, 21.7, 15.4, 15.3, 23.1, 23.9, 19.4, 11.9, 17.8,\n",
              "       31.5, 33.8, 20.8, 19.8, 22.4,  5. , 24.5, 19.4, 15.1, 18.2, 19.3,\n",
              "       27.1, 20.7, 37.6, 11.7, 33.4, 30.1, 21.4, 45.4, 20.1, 20.8, 26.4,\n",
              "       10.4, 21.8, 32. , 21.7, 18.4, 37.9, 17.8, 28. , 28.2, 36. , 18.9,\n",
              "       15. , 22.5, 30.7, 20. , 19.1, 23.3, 26.6, 21.1, 19.7, 20. , 12.1,\n",
              "        7.2, 14.2, 17.3, 27.5, 22.2, 10.9, 19.2, 32. , 14.5, 24.7, 12.6,\n",
              "       24. , 24.1, 50. , 16.1, 43.8, 26.6, 36.1, 21.8, 29.9, 50. , 44. ,\n",
              "       20.6, 19.6, 28.4, 19.1, 22.3, 20.9, 28.4, 14.4, 32.7, 13.8,  8.5,\n",
              "       22.5, 35.1, 31.6, 17.8, 15.6, 20.7, 39.8, 17.8, 19.6, 14.9, 22. ,\n",
              "       48.8, 25. , 48.5, 23.9, 20.3, 15.2, 10.5, 19. , 16.4,  8.8, 22. ,\n",
              "       24.8, 50. , 19.3, 22.7, 37.3, 31.6,  8.3, 23.1, 50. , 13.9, 16.1,\n",
              "       25.3, 19.5, 10.2, 19.9, 35.2, 13.4, 24.7, 11.5, 23.4, 16.7, 15.4,\n",
              "       18. , 28.5, 18.4, 32.5, 50. , 50. , 19.6, 17.6, 42.3, 14.5, 13.2,\n",
              "       16.2, 29.6, 16.7, 13. , 22.3, 13.4,  5. , 19.5, 14.6, 22. ,  8.1,\n",
              "       24.6, 33.2, 20.6, 14.1, 14.1, 21.1, 30.3, 23.7, 21.4, 18.3,  8.5,\n",
              "       22.8, 22.8, 22.2, 13.9, 25. , 18.5,  7. , 22.6, 20.1, 30.8, 31.1,\n",
              "       23.8, 12.5, 23.6, 23.2, 24.2, 22.2, 27.9, 22.2, 33.1, 19.3, 18.9,\n",
              "       22.6, 50. , 24.8, 18.5, 36.4, 19.2, 16.6, 23.1])"
            ]
          },
          "metadata": {},
          "execution_count": 31
        }
      ],
      "source": [
        "ytrain"
      ]
    },
    {
      "cell_type": "code",
      "execution_count": 32,
      "metadata": {
        "id": "1NietkcraTci",
        "outputId": "1d94e8d6-3e6b-43d8-bc19-3697fc0497af",
        "colab": {
          "base_uri": "https://localhost:8080/"
        }
      },
      "outputs": [
        {
          "output_type": "execute_result",
          "data": {
            "text/plain": [
              "array([22.6, 50. , 23. ,  8.3, 21.2, 19.9, 20.6, 18.7, 16.1, 18.6,  8.8,\n",
              "       17.2, 14.9, 10.5, 50. , 29. , 23. , 33.3, 29.4, 21. , 23.8, 19.1,\n",
              "       20.4, 29.1, 19.3, 23.1, 19.6, 19.4, 38.7, 18.7, 14.6, 20. , 20.5,\n",
              "       20.1, 23.6, 16.8,  5.6, 50. , 14.5, 13.3, 23.9, 20. , 19.8, 13.8,\n",
              "       16.5, 21.6, 20.3, 17. , 11.8, 27.5, 15.6, 23.1, 24.3, 42.8, 15.6,\n",
              "       21.7, 17.1, 17.2, 15. , 21.7, 18.6, 21. , 33.1, 31.5, 20.1, 29.8,\n",
              "       15.2, 15. , 27.5, 22.6, 20. , 21.4, 23.5, 31.2, 23.7,  7.4, 48.3,\n",
              "       24.4, 22.6, 18.3, 23.3, 17.1, 27.9, 44.8, 50. , 23. , 21.4, 10.2,\n",
              "       23.3, 23.2, 18.9, 13.4, 21.9, 24.8, 11.9, 24.3, 13.8, 24.7, 14.1,\n",
              "       18.7, 28.1, 19.8])"
            ]
          },
          "metadata": {},
          "execution_count": 32
        }
      ],
      "source": [
        "ytest"
      ]
    },
    {
      "cell_type": "code",
      "execution_count": 33,
      "metadata": {
        "id": "51Mt7-AyaTcj"
      },
      "outputs": [],
      "source": [
        "scaler = MinMaxScaler()"
      ]
    },
    {
      "cell_type": "code",
      "execution_count": 34,
      "metadata": {
        "id": "TkWqW7eBaTck"
      },
      "outputs": [],
      "source": [
        "# Scaling data\n",
        "xtrain = scaler.fit_transform(xtrain)\n",
        "xtest = scaler.transform(xtest)"
      ]
    },
    {
      "cell_type": "code",
      "execution_count": 35,
      "metadata": {
        "id": "qAc-E7ktaTcl"
      },
      "outputs": [],
      "source": [
        "regressor = LinearRegression()"
      ]
    },
    {
      "cell_type": "code",
      "execution_count": 36,
      "metadata": {
        "id": "vOo_XLC6aTcl",
        "outputId": "65774b10-4f4e-475b-8ce9-b2f732043fd3",
        "colab": {
          "base_uri": "https://localhost:8080/"
        }
      },
      "outputs": [
        {
          "output_type": "execute_result",
          "data": {
            "text/plain": [
              "LinearRegression()"
            ]
          },
          "metadata": {},
          "execution_count": 36
        }
      ],
      "source": [
        "# fitting data into model\n",
        "regressor.fit(xtrain,ytrain)"
      ]
    },
    {
      "cell_type": "code",
      "execution_count": 37,
      "metadata": {
        "id": "agKlweLjaTcm",
        "outputId": "7311a142-8373-4606-be9f-d011d74fab19",
        "colab": {
          "base_uri": "https://localhost:8080/"
        }
      },
      "outputs": [
        {
          "output_type": "execute_result",
          "data": {
            "text/plain": [
              "27.616202598136624"
            ]
          },
          "metadata": {},
          "execution_count": 37
        }
      ],
      "source": [
        "regressor.intercept_"
      ]
    },
    {
      "cell_type": "code",
      "execution_count": 38,
      "metadata": {
        "id": "7i9pv-8TaTcm",
        "outputId": "5509a480-0d5e-4188-c801-ec2f8ef4dff3",
        "colab": {
          "base_uri": "https://localhost:8080/"
        }
      },
      "outputs": [
        {
          "output_type": "execute_result",
          "data": {
            "text/plain": [
              "array([-10.62686915,   4.47799511,   0.14963794,   2.34080361,\n",
              "        -7.8360717 ,  19.35575233,  -0.30305704, -15.18423992,\n",
              "         5.61610152,  -5.75856956,  -9.83165917,   3.21630621,\n",
              "       -17.37094354])"
            ]
          },
          "metadata": {},
          "execution_count": 38
        }
      ],
      "source": [
        "regressor.coef_"
      ]
    },
    {
      "cell_type": "code",
      "execution_count": 39,
      "metadata": {
        "id": "IO_rlPG3aTcn",
        "outputId": "062f561f-8cc9-4541-97c4-9794e9666f12",
        "colab": {
          "base_uri": "https://localhost:8080/"
        }
      },
      "outputs": [
        {
          "output_type": "stream",
          "name": "stdout",
          "text": [
            "[32.55692655 21.92709478 27.54382573 23.60318829  6.57190962 14.94183849\n",
            " 22.2234359  29.16492082 33.24362083 13.14592261 20.25607099 20.69823381\n",
            " 12.65147525 23.36451045  5.04647867 19.82921197  9.41949932 44.64390988\n",
            " 30.78308135 12.51377155 17.7083025  21.40137495 23.63206936 20.43451195\n",
            " 35.01471208 13.84093827 21.04977584 35.15299117 19.43031106 13.17488144\n",
            " 14.10200042 23.10677783 14.38600111 31.24428679 25.30231549 15.41257398\n",
            " 24.21291852  9.40801187 14.94526286 20.83029825 32.74172958 27.96372521\n",
            " 25.60836003 15.56419667 31.11934684 27.96958264 13.99703059  7.63346533\n",
            " 28.4388332  25.33766463  4.52504654 28.38514306 17.1896917  29.74225124\n",
            " 20.45365104 15.92613078 17.88247152 12.73233004  8.75151422 19.2087374\n",
            " 34.49694507 32.94684483 23.67278817 19.55243904 22.8357545  26.87133257\n",
            " 21.80817968 17.06379885 32.05027982 10.92397211 19.43423447 32.4854791\n",
            " 18.83330461 15.95730389 18.64348601 14.44808929 24.60654801 24.2966726\n",
            " 16.64095381 13.32850391 20.20307548 25.12819701 17.18033172 24.71277155\n",
            " 22.55275499 27.95373582 35.65590799 16.64554264 11.83311357 34.84466464\n",
            " 30.84970933 20.7296176  39.5623948  28.93322544 29.14486603 17.37121002\n",
            " 26.82268232 40.00777296 28.73960914 16.44453732 37.45185446 35.50108073\n",
            " 13.44578945 29.15098204 21.60750842 24.3179916  21.41700241 23.69538029\n",
            " 27.763419   29.66227826 14.17302558 26.07579718 23.29927812 12.80163317\n",
            " 13.72880538 25.27684715 19.3372779  30.54665354 10.97447089 23.60361618\n",
            " 16.97107603 16.94075184 22.59508311 21.66478168 11.77477027 25.21624705\n",
            " 28.69690945 20.17018883 12.57893016 25.48767672 25.94576428 25.07919075\n",
            " 23.5616099  26.7499689  16.61402974 21.79867747 36.15143711 21.00423145\n",
            " 35.88524905 25.69352037 21.5263148  15.87068763 31.29616772 21.21153127\n",
            " 27.77524582 14.8263031  32.22158358 13.99145209  1.72558788 19.37012454\n",
            " 14.26927105 37.54465846 15.72768892 14.42603011 27.31195528 23.24522425\n",
            " 18.47439387 30.56792527 27.27498194 27.27933163 24.82223745 24.16626145\n",
            " 23.72500963 11.15226922 20.76322385 13.54743953 17.16753222 12.72059151\n",
            " 28.36113417 14.93078086 16.28718393 28.70785889 14.89693976 21.24395164\n",
            " 12.83793534 13.8967354  22.63435472 21.22168525 14.71193886 20.93690941\n",
            " 16.89161444 24.57078637 12.55171427 34.77581569 12.04428697 43.13783582\n",
            " 31.24743877 35.27489214 21.44652404 15.75342369 26.54541539 29.48749252\n",
            " 14.09267258 26.55382087 37.06264306 17.64994791 10.60033751 34.12962592\n",
            " 35.60893841 18.29850589 22.55033558 17.99336763 24.37931178 19.51737003\n",
            " 27.30545421 -4.3921497  20.5694959  35.24711794 36.62936652 25.08667454\n",
            " 27.21318383 20.76260072 20.62207277 15.87527321 20.67111164 20.55222254\n",
            " 27.90614562 19.6623801   7.40663904 16.40149348 32.41751592 35.22532239\n",
            " 17.48615135 18.73060335 23.40379308  6.90428516 21.44745461 24.02200142\n",
            " 16.46784691 18.38505179 21.90096579 27.59158204 25.48139462 37.02340322\n",
            " 15.43332269 28.60694794 25.833241   22.27537004 38.70334609 20.83802332\n",
            " 23.4287209  22.86380935 12.48755328 20.30380995 33.59657861 24.79674983\n",
            " 18.00283472 33.54517371 21.63038303 28.34884771 32.26697938 36.74735276\n",
            " 22.21068249 24.03052252 22.44265374 31.82414277 22.3672764  18.83724841\n",
            " 21.79697632 28.24902955 22.5282343  21.81339391 17.00781251 17.49258071\n",
            " 16.96573172 17.42535476 16.49296072 31.60388241 23.76669997 17.5783377\n",
            " 19.8104465  33.69341038 13.95441929 24.95294806 17.37139503 30.49949836\n",
            " 29.96325775 22.55730163 20.82912579 35.02490097 22.62414952 32.89864678\n",
            " 20.77381521 31.41949305 30.90222525 37.56313681 26.83815938 21.9299641\n",
            " 28.71684915 16.17264967 26.97631217 21.09345616 30.46198221  9.94954653\n",
            " 30.89000499  5.84660346 15.62690795 18.15511465 35.40907542 32.07204745\n",
            " 11.0533533  13.29217059 21.60325564 34.44368387 18.63979788 19.19398001\n",
            " 15.00401901 25.78879807 41.15008314 25.03321118 42.02049754 24.93655332\n",
            " 22.29015819 12.26449688 12.01986598 14.14864319 18.48192539  3.06216934\n",
            " 27.51260448 26.07255247 41.04860013 21.10381709 21.14679988 34.06176587\n",
            " 33.41315924  9.7266196  24.74423086 43.37659562 16.9546337  17.89698454\n",
            " 25.51231449 18.43599095  6.12378352 19.32867486 34.9210476  16.23395668\n",
            " 23.02767993 13.57396353 24.50837677 18.77408796 17.32594697 18.77680161\n",
            " 33.1153209  19.46400572 30.73370111 32.76024301 41.30498546 19.14302841\n",
            " 16.57710162 37.54775334 17.98685071  9.44489833 15.1641066  24.94105282\n",
            " 19.68981249 16.62354285 27.42640244 12.97145628  5.84069961 19.01616688\n",
            "  9.8593521  28.08568859  4.55202156 29.19078851 32.18448197 22.14626525\n",
            " 16.77353103 18.09521326 20.69880761 33.59801009 27.76466052 19.52622298\n",
            " 20.73263109  6.66762852 28.91184184 24.61296652 22.15495216 13.64649885\n",
            " 25.7963897  19.33474204  8.85925152 26.69406634 16.19490488 31.36752127\n",
            " 32.61895119 25.44594779 18.53296899 30.60523455 21.56355414 25.27299928\n",
            " 25.91044256 31.59739298 24.50960565 34.45005694 17.11216878 19.69986884\n",
            " 18.54092642 40.99282958 25.1228036  19.49495107 33.32636427 23.79620777\n",
            " 18.45835276 23.24918114]\n"
          ]
        }
      ],
      "source": [
        "xtrain_pred = regressor.predict(xtrain)\n",
        "print(xtrain_pred)"
      ]
    },
    {
      "cell_type": "code",
      "execution_count": 40,
      "metadata": {
        "id": "i4HpFyAHaTco",
        "outputId": "423ffb98-c096-41ae-acf2-1d70fd718965",
        "colab": {
          "base_uri": "https://localhost:8080/"
        }
      },
      "outputs": [
        {
          "output_type": "stream",
          "name": "stdout",
          "text": [
            "[24.88963777 23.72141085 29.36499868 12.12238621 21.44382254 19.2834443\n",
            " 20.49647539 21.36099298 18.8967118  19.9280658   5.12703513 16.3867396\n",
            " 17.07776485  5.59375659 39.99636726 32.49654668 22.45798809 36.85192327\n",
            " 30.86401089 23.15140009 24.77495789 24.67187756 20.59543752 30.35369168\n",
            " 22.41940736 10.23266565 17.64816865 18.27419652 35.53362541 20.96084724\n",
            " 18.30413012 17.79262072 19.96561663 24.06127231 29.10204874 19.27774123\n",
            " 11.15536648 24.57560579 17.5862644  15.49454112 26.20577527 20.86304693\n",
            " 22.31460516 15.60710156 23.00363104 25.17247952 20.11459464 22.90256276\n",
            " 10.0380507  24.28515123 20.94127711 17.35258791 24.52235405 29.95143046\n",
            " 13.42695877 21.72673066 20.7897053  15.49668805 13.98982601 22.18377874\n",
            " 17.73047814 21.58869165 32.90522136 31.11235671 17.73252635 32.76358681\n",
            " 18.7124637  19.78693475 19.02958927 22.89825374 22.96041622 24.02555703\n",
            " 30.72859326 28.83142691 25.89957059  5.23251817 36.72183202 23.77267249\n",
            " 27.26856352 19.29492159 28.62304496 19.17978838 18.97185995 37.82397662\n",
            " 39.22012647 23.71261106 24.93076217 15.88545417 26.09845751 16.68819641\n",
            " 15.83515991 13.10775597 24.71583588 31.25165267 22.16640989 20.25087212\n",
            "  0.59025319 25.44217132 15.57178328 17.93719475 25.30588844 22.3732326 ]\n"
          ]
        }
      ],
      "source": [
        "xtest_pred = regressor.predict(xtest)\n",
        "print(xtest_pred)"
      ]
    },
    {
      "cell_type": "code",
      "execution_count": 41,
      "metadata": {
        "id": "tD6RDMohaTcp",
        "outputId": "63e61a3e-939b-4f4a-f842-54271caf9e16",
        "colab": {
          "base_uri": "https://localhost:8080/"
        }
      },
      "outputs": [
        {
          "output_type": "execute_result",
          "data": {
            "text/plain": [
              "0.706361627115446"
            ]
          },
          "metadata": {},
          "execution_count": 41
        }
      ],
      "source": [
        "r2_score(xtrain_pred,ytrain)"
      ]
    },
    {
      "cell_type": "code",
      "execution_count": 42,
      "metadata": {
        "id": "XLopYaHfaTcq",
        "outputId": "8d54ace5-766d-489c-fb12-be2f55f15c3e",
        "colab": {
          "base_uri": "https://localhost:8080/"
        }
      },
      "outputs": [
        {
          "output_type": "execute_result",
          "data": {
            "text/plain": [
              "19.326470203585725"
            ]
          },
          "metadata": {},
          "execution_count": 42
        }
      ],
      "source": [
        "mean_squared_error(xtrain_pred,ytrain)"
      ]
    },
    {
      "cell_type": "code",
      "execution_count": 43,
      "metadata": {
        "id": "pGKoTBWZaTcr",
        "outputId": "ba5923b1-8823-4510-b2d4-4e5a93ce238c",
        "colab": {
          "base_uri": "https://localhost:8080/"
        }
      },
      "outputs": [
        {
          "output_type": "execute_result",
          "data": {
            "text/plain": [
              "4.396188144698282"
            ]
          },
          "metadata": {},
          "execution_count": 43
        }
      ],
      "source": [
        "np.math.sqrt(mean_squared_error(xtrain_pred,ytrain))"
      ]
    },
    {
      "cell_type": "code",
      "execution_count": 44,
      "metadata": {
        "id": "j00nZGJ_aTcr",
        "outputId": "3a260cfa-65d9-4c80-afa8-02345a350a15",
        "colab": {
          "base_uri": "https://localhost:8080/"
        }
      },
      "outputs": [
        {
          "output_type": "execute_result",
          "data": {
            "text/plain": [
              "0.35236530087887175"
            ]
          },
          "metadata": {},
          "execution_count": 44
        }
      ],
      "source": [
        "r2_score(xtest_pred,ytest)"
      ]
    },
    {
      "cell_type": "code",
      "execution_count": 45,
      "metadata": {
        "id": "b8GNGM7naTcr",
        "outputId": "6a3b104f-e79f-4468-c51b-bc0a94cbd61e",
        "colab": {
          "base_uri": "https://localhost:8080/"
        }
      },
      "outputs": [
        {
          "output_type": "execute_result",
          "data": {
            "text/plain": [
              "33.448979997676595"
            ]
          },
          "metadata": {},
          "execution_count": 45
        }
      ],
      "source": [
        "mean_squared_error(ytest,xtest_pred)"
      ]
    },
    {
      "cell_type": "code",
      "execution_count": 46,
      "metadata": {
        "id": "QzDrOBpCaTcs",
        "outputId": "1f22a6f8-d9a1-4bb3-b1e2-f93cf6bbccf0",
        "colab": {
          "base_uri": "https://localhost:8080/"
        }
      },
      "outputs": [
        {
          "output_type": "execute_result",
          "data": {
            "text/plain": [
              "5.783509315085141"
            ]
          },
          "metadata": {},
          "execution_count": 46
        }
      ],
      "source": [
        "np.math.sqrt(mean_squared_error(ytest,xtest_pred))"
      ]
    }
  ],
  "metadata": {
    "colab": {
      "provenance": []
    },
    "kernelspec": {
      "display_name": "Python 3",
      "language": "python",
      "name": "python3"
    },
    "language_info": {
      "codemirror_mode": {
        "name": "ipython",
        "version": 3
      },
      "file_extension": ".py",
      "mimetype": "text/x-python",
      "name": "python",
      "nbconvert_exporter": "python",
      "pygments_lexer": "ipython3",
      "version": "3.8.8"
    }
  },
  "nbformat": 4,
  "nbformat_minor": 0
}